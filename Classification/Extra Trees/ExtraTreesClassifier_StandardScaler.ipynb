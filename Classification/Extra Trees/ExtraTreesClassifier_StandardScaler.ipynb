{
 "cells": [
  {
   "cell_type": "markdown",
   "source": [
    "# ExtraTreesClassifier with StandardScaler\r\n",
    "\r\n",
    "## Coming Soon"
   ],
   "metadata": {}
  }
 ],
 "metadata": {
  "orig_nbformat": 4,
  "language_info": {
   "name": "python"
  }
 },
 "nbformat": 4,
 "nbformat_minor": 2
}