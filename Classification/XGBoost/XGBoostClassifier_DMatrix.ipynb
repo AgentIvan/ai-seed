{
 "cells": [
  {
   "cell_type": "markdown",
   "source": [
    "# Extreme Gradient Boosting Classification using DMatrix\r\n",
    "## Coming Soon"
   ],
   "metadata": {}
  }
 ],
 "metadata": {
  "orig_nbformat": 4,
  "language_info": {
   "name": "python"
  }
 },
 "nbformat": 4,
 "nbformat_minor": 2
}