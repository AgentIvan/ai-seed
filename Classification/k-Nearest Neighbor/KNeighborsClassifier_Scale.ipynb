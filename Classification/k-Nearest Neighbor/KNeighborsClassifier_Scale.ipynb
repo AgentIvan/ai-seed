{
 "cells": [
  {
   "cell_type": "markdown",
   "source": [
    "# K-Nearest Neighbor Classifier with Scale\r\n",
    "## Coming Soon"
   ],
   "metadata": {}
  }
 ],
 "metadata": {
  "orig_nbformat": 4,
  "language_info": {
   "name": "python"
  }
 },
 "nbformat": 4,
 "nbformat_minor": 2
}