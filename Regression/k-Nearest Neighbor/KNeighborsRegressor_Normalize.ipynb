{
 "cells": [
  {
   "cell_type": "markdown",
   "source": [
    "# K-Nearest Neighbor Regressor with Normalize\r\n",
    "## Coming Soon"
   ],
   "metadata": {}
  }
 ],
 "metadata": {
  "orig_nbformat": 4,
  "language_info": {
   "name": "python"
  }
 },
 "nbformat": 4,
 "nbformat_minor": 2
}