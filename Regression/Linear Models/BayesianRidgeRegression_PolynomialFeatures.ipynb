{
  "nbformat": 4,
  "nbformat_minor": 2,
  "metadata": {
    "kernelspec": {
      "name": "python3",
      "display_name": "Python 3.8.5 64-bit ('base': conda)"
    },
    "language_info": {
      "codemirror_mode": {
        "name": "ipython",
        "version": 3
      },
      "file_extension": ".py",
      "mimetype": "text/x-python",
      "name": "python",
      "nbconvert_exporter": "python",
      "pygments_lexer": "ipython3",
      "version": "3.8.5"
    },
    "interpreter": {
      "hash": "51a9663a131f1b5758c45b97a2d6917c8ae86b33e231c3733631cbc7265cfc89"
    },
    "colab": {
      "name": "BayesianRidgeRegression_PolynomialFeatures.ipynb",
      "provenance": []
    }
  },
  "cells": [
    {
      "cell_type": "markdown",
      "source": [
        "# BayesianRidgeRegression with Polynomial Features\n"
      ],
      "metadata": {
        "id": "-ocdJCpvsCVf"
      }
    },
    {
      "cell_type": "markdown",
      "source": [
        "This Code template is for the regression analysis using a simple Bayesian Ridge Regression based on the Bayesian Regression approach and feature transformation technique PolynomialFeatures in a pipeline."
      ],
      "metadata": {
        "id": "B7sil6BOsCVj"
      }
    },
    {
      "cell_type": "markdown",
      "source": [
        "### Required Packages"
      ],
      "metadata": {
        "id": "dMVAHN9usCVl"
      }
    },
    {
      "cell_type": "code",
      "execution_count": 1,
      "source": [
        "import warnings \r\n",
        "import numpy as np \r\n",
        "import pandas as pd \r\n",
        "import matplotlib.pyplot as plt\r\n",
        "import seaborn as se \r\n",
        "from sklearn.linear_model import BayesianRidge\r\n",
        "from sklearn.pipeline import make_pipeline\r\n",
        "from sklearn.preprocessing import PolynomialFeatures\r\n",
        "from sklearn.model_selection import train_test_split\r\n",
        "from sklearn.metrics import r2_score, mean_absolute_error, mean_squared_error \r\n",
        "warnings.filterwarnings('ignore')"
      ],
      "outputs": [],
      "metadata": {
        "id": "GlzmVq3xsCVn"
      }
    },
    {
      "cell_type": "markdown",
      "source": [
        "### Initialization\n",
        "\n",
        "Filepath of CSV file"
      ],
      "metadata": {
        "id": "-3MeJpRisCVo"
      }
    },
    {
      "cell_type": "code",
      "execution_count": 2,
      "source": [
        "#filepath\r\n",
        "file_path= \"\""
      ],
      "outputs": [],
      "metadata": {
        "id": "Szb2NFuisCVp"
      }
    },
    {
      "cell_type": "markdown",
      "source": [
        "List of features which are  required for model training ."
      ],
      "metadata": {
        "id": "yo-JKvr5sCVq"
      }
    },
    {
      "cell_type": "code",
      "execution_count": 3,
      "source": [
        "#x_values\r\n",
        "\r\n",
        "features=[]"
      ],
      "outputs": [],
      "metadata": {
        "id": "wMpqlSEjsCVs"
      }
    },
    {
      "cell_type": "markdown",
      "source": [
        "Target feature for prediction."
      ],
      "metadata": {
        "id": "89ztYfjZsCVt"
      }
    },
    {
      "cell_type": "code",
      "execution_count": 4,
      "source": [
        "#y_value\r\n",
        "target=''"
      ],
      "outputs": [],
      "metadata": {
        "id": "MjExDM9SsCVu"
      }
    },
    {
      "cell_type": "markdown",
      "source": [
        "### Data Fetching\n",
        "\n",
        "Pandas is an open-source, BSD-licensed library providing high-performance, easy-to-use data manipulation and data analysis tools.\n",
        "\n",
        "We will use panda's library to read the CSV file using its storage path.And we use the head function to display the initial row or entry."
      ],
      "metadata": {
        "id": "SQORMGJzsCVv"
      }
    },
    {
      "cell_type": "code",
      "execution_count": 5,
      "source": [
        "df=pd.read_csv(file_path)\r\n",
        "df.head()"
      ],
      "outputs": [
        {
          "output_type": "execute_result",
          "data": {
            "text/plain": [
              "      AT      V       AP     RH      PE\n",
              "0  14.96  41.76  1024.07  73.17  463.26\n",
              "1  25.18  62.96  1020.04  59.08  444.37\n",
              "2   5.11  39.40  1012.16  92.14  488.56\n",
              "3  20.86  57.32  1010.24  76.64  446.48\n",
              "4  10.82  37.50  1009.23  96.62  473.90"
            ],
            "text/html": [
              "<div>\n",
              "<style scoped>\n",
              "    .dataframe tbody tr th:only-of-type {\n",
              "        vertical-align: middle;\n",
              "    }\n",
              "\n",
              "    .dataframe tbody tr th {\n",
              "        vertical-align: top;\n",
              "    }\n",
              "\n",
              "    .dataframe thead th {\n",
              "        text-align: right;\n",
              "    }\n",
              "</style>\n",
              "<table border=\"1\" class=\"dataframe\">\n",
              "  <thead>\n",
              "    <tr style=\"text-align: right;\">\n",
              "      <th></th>\n",
              "      <th>AT</th>\n",
              "      <th>V</th>\n",
              "      <th>AP</th>\n",
              "      <th>RH</th>\n",
              "      <th>PE</th>\n",
              "    </tr>\n",
              "  </thead>\n",
              "  <tbody>\n",
              "    <tr>\n",
              "      <th>0</th>\n",
              "      <td>14.96</td>\n",
              "      <td>41.76</td>\n",
              "      <td>1024.07</td>\n",
              "      <td>73.17</td>\n",
              "      <td>463.26</td>\n",
              "    </tr>\n",
              "    <tr>\n",
              "      <th>1</th>\n",
              "      <td>25.18</td>\n",
              "      <td>62.96</td>\n",
              "      <td>1020.04</td>\n",
              "      <td>59.08</td>\n",
              "      <td>444.37</td>\n",
              "    </tr>\n",
              "    <tr>\n",
              "      <th>2</th>\n",
              "      <td>5.11</td>\n",
              "      <td>39.40</td>\n",
              "      <td>1012.16</td>\n",
              "      <td>92.14</td>\n",
              "      <td>488.56</td>\n",
              "    </tr>\n",
              "    <tr>\n",
              "      <th>3</th>\n",
              "      <td>20.86</td>\n",
              "      <td>57.32</td>\n",
              "      <td>1010.24</td>\n",
              "      <td>76.64</td>\n",
              "      <td>446.48</td>\n",
              "    </tr>\n",
              "    <tr>\n",
              "      <th>4</th>\n",
              "      <td>10.82</td>\n",
              "      <td>37.50</td>\n",
              "      <td>1009.23</td>\n",
              "      <td>96.62</td>\n",
              "      <td>473.90</td>\n",
              "    </tr>\n",
              "  </tbody>\n",
              "</table>\n",
              "</div>"
            ]
          },
          "metadata": {
            "tags": []
          },
          "execution_count": 5
        }
      ],
      "metadata": {
        "colab": {
          "base_uri": "https://localhost:8080/",
          "height": 204
        },
        "id": "FVs9VQhbsCVw",
        "outputId": "1ac9e717-8d0d-498a-a8bb-7632e35f32ed"
      }
    },
    {
      "cell_type": "markdown",
      "source": [
        "### Feature Selections\n",
        "\n",
        "It is the process of reducing the number of input variables when developing a predictive model. Used to reduce the number of input variables to both reduce the computational cost of modelling and, in some cases, to improve the performance of the model.\n",
        "\n",
        "We will assign all the required input features to X and target/outcome to Y."
      ],
      "metadata": {
        "id": "s66R426GsCVx"
      }
    },
    {
      "cell_type": "code",
      "execution_count": 6,
      "source": [
        "X=df[features]\r\n",
        "Y=df[target]"
      ],
      "outputs": [],
      "metadata": {
        "id": "L7xD7HTYsCVy"
      }
    },
    {
      "cell_type": "markdown",
      "source": [
        "### Data Preprocessing\n",
        "\n",
        "Since the majority of the machine learning models in the Sklearn library doesn't handle string category data and Null value, we have to explicitly remove or replace null values. The below snippet have functions, which removes the null value if any exists. And convert the string classes data in the datasets by encoding them to integer classes.\n"
      ],
      "metadata": {
        "id": "o4BvO_jXsCVy"
      }
    },
    {
      "cell_type": "code",
      "execution_count": 7,
      "source": [
        "def NullClearner(df):\r\n",
        "    if(isinstance(df, pd.Series) and (df.dtype in [\"float64\",\"int64\"])):\r\n",
        "        df.fillna(df.mean(),inplace=True)\r\n",
        "        return df\r\n",
        "    elif(isinstance(df, pd.Series)):\r\n",
        "        df.fillna(df.mode()[0],inplace=True)\r\n",
        "        return df\r\n",
        "    else:return df\r\n",
        "def EncodeX(df):\r\n",
        "    return pd.get_dummies(df)"
      ],
      "outputs": [],
      "metadata": {
        "id": "HRjwykmBsCVy"
      }
    },
    {
      "cell_type": "markdown",
      "source": [
        "Calling preprocessing functions on the feature and target set.\n"
      ],
      "metadata": {
        "id": "1q211RdwsCVz"
      }
    },
    {
      "cell_type": "code",
      "execution_count": 8,
      "source": [
        "x=X.columns.to_list()\r\n",
        "for i in x:\r\n",
        "    X[i]=NullClearner(X[i])\r\n",
        "X=EncodeX(X)\r\n",
        "Y=NullClearner(Y)\r\n",
        "X.head()"
      ],
      "outputs": [
        {
          "output_type": "execute_result",
          "data": {
            "text/plain": [
              "      AT      V       AP     RH\n",
              "0  14.96  41.76  1024.07  73.17\n",
              "1  25.18  62.96  1020.04  59.08\n",
              "2   5.11  39.40  1012.16  92.14\n",
              "3  20.86  57.32  1010.24  76.64\n",
              "4  10.82  37.50  1009.23  96.62"
            ],
            "text/html": [
              "<div>\n",
              "<style scoped>\n",
              "    .dataframe tbody tr th:only-of-type {\n",
              "        vertical-align: middle;\n",
              "    }\n",
              "\n",
              "    .dataframe tbody tr th {\n",
              "        vertical-align: top;\n",
              "    }\n",
              "\n",
              "    .dataframe thead th {\n",
              "        text-align: right;\n",
              "    }\n",
              "</style>\n",
              "<table border=\"1\" class=\"dataframe\">\n",
              "  <thead>\n",
              "    <tr style=\"text-align: right;\">\n",
              "      <th></th>\n",
              "      <th>AT</th>\n",
              "      <th>V</th>\n",
              "      <th>AP</th>\n",
              "      <th>RH</th>\n",
              "    </tr>\n",
              "  </thead>\n",
              "  <tbody>\n",
              "    <tr>\n",
              "      <th>0</th>\n",
              "      <td>14.96</td>\n",
              "      <td>41.76</td>\n",
              "      <td>1024.07</td>\n",
              "      <td>73.17</td>\n",
              "    </tr>\n",
              "    <tr>\n",
              "      <th>1</th>\n",
              "      <td>25.18</td>\n",
              "      <td>62.96</td>\n",
              "      <td>1020.04</td>\n",
              "      <td>59.08</td>\n",
              "    </tr>\n",
              "    <tr>\n",
              "      <th>2</th>\n",
              "      <td>5.11</td>\n",
              "      <td>39.40</td>\n",
              "      <td>1012.16</td>\n",
              "      <td>92.14</td>\n",
              "    </tr>\n",
              "    <tr>\n",
              "      <th>3</th>\n",
              "      <td>20.86</td>\n",
              "      <td>57.32</td>\n",
              "      <td>1010.24</td>\n",
              "      <td>76.64</td>\n",
              "    </tr>\n",
              "    <tr>\n",
              "      <th>4</th>\n",
              "      <td>10.82</td>\n",
              "      <td>37.50</td>\n",
              "      <td>1009.23</td>\n",
              "      <td>96.62</td>\n",
              "    </tr>\n",
              "  </tbody>\n",
              "</table>\n",
              "</div>"
            ]
          },
          "metadata": {
            "tags": []
          },
          "execution_count": 8
        }
      ],
      "metadata": {
        "colab": {
          "base_uri": "https://localhost:8080/",
          "height": 204
        },
        "id": "IRiwJu0qsCVz",
        "outputId": "3481adf1-b5df-40be-d1da-78f6636cb73b"
      }
    },
    {
      "cell_type": "markdown",
      "source": [
        "#### Correlation Map\n",
        "\n",
        "In order to check the correlation between the features, we will plot a correlation matrix. It is effective in summarizing a large amount of data where the goal is to see patterns."
      ],
      "metadata": {
        "id": "VqwW73dKsCVz"
      }
    },
    {
      "cell_type": "code",
      "execution_count": 9,
      "source": [
        "f,ax = plt.subplots(figsize=(18, 18))\r\n",
        "matrix = np.triu(X.corr())\r\n",
        "se.heatmap(X.corr(), annot=True, linewidths=.5, fmt= '.1f',ax=ax, mask=matrix)\r\n",
        "plt.show()"
      ],
      "outputs": [
        {
          "output_type": "display_data",
          "data": {
            "text/plain": [
              "<Figure size 1296x1296 with 2 Axes>"
            ],
            "image/png": "[encoded data removed]"
          },
          "metadata": {
            "tags": [],
            "needs_background": "light"
          }
        }
      ],
      "metadata": {
        "colab": {
          "base_uri": "https://localhost:8080/",
          "height": 1000
        },
        "id": "L5z_TVI8sCV0",
        "outputId": "75d54ec6-346b-4852-b1f9-a20627248615"
      }
    },
    {
      "cell_type": "markdown",
      "source": [
        "### Data Splitting\n",
        "\n",
        "The train-test split is a procedure for evaluating the performance of an algorithm. The procedure involves taking a dataset and dividing it into two subsets. The first subset is utilized to fit/train the model. The second subset is used for prediction. The main motive is to estimate the performance of the model on new data."
      ],
      "metadata": {
        "id": "808JTYyzsCV0"
      }
    },
    {
      "cell_type": "code",
      "execution_count": 10,
      "source": [
        "x_train,x_test,y_train,y_test=train_test_split(X,Y,test_size=0.2,random_state=123)"
      ],
      "outputs": [],
      "metadata": {
        "id": "Z18azbAFsCV0"
      }
    },
    {
      "cell_type": "markdown",
      "source": [
        "### Model\n",
        "\n",
        "Bayesian Regression can be very useful when we have insufficient data in the dataset or the data is poorly distributed. The output of a Bayesian Regression model is obtained from a probability distribution, as compared to regular regression techniques where the output is just obtained from a single value of each attribute.\n",
        "Bayesian regression techniques can be used to include regularization parameters in the estimation procedure: the regularization parameter is not set in a hard sense but tuned to the data at hand.\n",
        "\n",
        "If there is a large amount of data available for our dataset, the Bayesian approach is not good for such cases.\n",
        "\n",
        "#### Model Tuning Parameters\n",
        "\n",
        "> **alpha_1** : shape parameter for the Gamma distribution prior over the alpha parameter.\n",
        "\n",
        "> **alpha_2** : inverse scale parameter (rate parameter) for the Gamma distribution prior over the alpha parameter.\n",
        "\n",
        "> **lambda_1** : shape parameter for the Gamma distribution prior over the lambda parameter.\n",
        "\n",
        "> **lambda_2** : inverse scale parameter (rate parameter) for the Gamma distribution prior over the lambda parameter."
      ],
      "metadata": {
        "id": "lfPSCxbisCV1"
      }
    },
    {
      "cell_type": "code",
      "execution_count": 11,
      "source": [
        "model=make_pipeline(PolynomialFeatures(),BayesianRidge())\r\n",
        "model.fit(x_train,y_train)"
      ],
      "outputs": [
        {
          "output_type": "execute_result",
          "data": {
            "text/plain": [
              "Pipeline(memory=None,\n",
              "         steps=[('polynomialfeatures',\n",
              "                 PolynomialFeatures(degree=2, include_bias=True,\n",
              "                                    interaction_only=False, order='C')),\n",
              "                ('bayesianridge',\n",
              "                 BayesianRidge(alpha_1=1e-06, alpha_2=1e-06, alpha_init=None,\n",
              "                               compute_score=False, copy_X=True,\n",
              "                               fit_intercept=True, lambda_1=1e-06,\n",
              "                               lambda_2=1e-06, lambda_init=None, n_iter=300,\n",
              "                               normalize=False, tol=0.001, verbose=False))],\n",
              "         verbose=False)"
            ]
          },
          "metadata": {
            "tags": []
          },
          "execution_count": 11
        }
      ],
      "metadata": {
        "colab": {
          "base_uri": "https://localhost:8080/"
        },
        "id": "loLyGJqysCV1",
        "outputId": "d3990a25-9cb4-45b7-da19-15a5ca160f0b"
      }
    },
    {
      "cell_type": "markdown",
      "source": [
        "#### Model Accuracy\n",
        "\n",
        "We will use the trained model to make a prediction on the test set.Then use the predicted value for measuring the accuracy of our model.\n",
        "\n",
        "> **score**: The **score** function returns the coefficient of determination <code>R<sup>2</sup></code> of the prediction."
      ],
      "metadata": {
        "id": "qPQGGb9SsCV1"
      }
    },
    {
      "cell_type": "code",
      "execution_count": 12,
      "source": [
        "print(\"Accuracy score {:.2f} %\\n\".format(model.score(x_test,y_test)*100))"
      ],
      "outputs": [
        {
          "output_type": "stream",
          "name": "stdout",
          "text": [
            "Accuracy score 93.38 %\n",
            "\n"
          ]
        }
      ],
      "metadata": {
        "colab": {
          "base_uri": "https://localhost:8080/"
        },
        "id": "AdRUPBB8sCV2",
        "outputId": "04c7cf44-8e0a-41fc-8717-87bf78618be4"
      }
    },
    {
      "cell_type": "markdown",
      "source": [
        "> **r2_score**: The **r2_score** function computes the percentage variablility explained by our model, either the fraction or the count of correct predictions.  \n",
        "\n",
        "> **mae**: The **mean abosolute error** function calculates the amount of total error(absolute average distance between the real data and the predicted data) by our model.  \n",
        "\n",
        "> **mse**: The **mean squared error** function squares the error(penalizes the model for large errors) by our model. "
      ],
      "metadata": {
        "id": "j8oZHpftsCV2"
      }
    },
    {
      "cell_type": "code",
      "execution_count": 13,
      "source": [
        "y_pred=model.predict(x_test)\n",
        "print(\"R2 Score: {:.2f} %\".format(r2_score(y_test,y_pred)*100))\n",
        "print(\"Mean Absolute Error {:.2f}\".format(mean_absolute_error(y_test,y_pred)))\n",
        "print(\"Mean Squared Error {:.2f}\".format(mean_squared_error(y_test,y_pred)))"
      ],
      "outputs": [
        {
          "output_type": "stream",
          "name": "stdout",
          "text": [
            "R2 Score: 93.38 %\n",
            "Mean Absolute Error 3.44\n",
            "Mean Squared Error 19.17\n"
          ]
        }
      ],
      "metadata": {
        "colab": {
          "base_uri": "https://localhost:8080/"
        },
        "id": "IbwFfALqsCV2",
        "outputId": "42d5e6cb-f43c-4929-dc18-5d5fa1612833"
      }
    },
    {
      "cell_type": "markdown",
      "source": [
        "#### Prediction Plot\n",
        "\n",
        "First, we make use of a plot to plot the actual observations, with x_train on the x-axis and y_train on the y-axis.\n",
        "For the regression line, we will use x_train on the x-axis and then the predictions of the x_train observations on the y-axis."
      ],
      "metadata": {
        "id": "bwqCQGQIsCV3"
      }
    },
    {
      "cell_type": "code",
      "execution_count": 14,
      "source": [
        "plt.figure(figsize=(14,10))\n",
        "plt.plot(range(20),y_test[0:20], color = \"green\")\n",
        "plt.plot(range(20),model.predict(x_test[0:20]), color = \"red\")\n",
        "plt.legend([\"Actual\",\"prediction\"]) \n",
        "plt.title(\"Predicted vs True Value\")\n",
        "plt.xlabel(\"Record number\")\n",
        "plt.ylabel(target)\n",
        "plt.show()"
      ],
      "outputs": [
        {
          "output_type": "display_data",
          "data": {
            "text/plain": [
              "<Figure size 1008x720 with 1 Axes>"
            ],
            "image/png": "[encoded data removed]"
          },
          "metadata": {
            "tags": [],
            "needs_background": "light"
          }
        }
      ],
      "metadata": {
        "colab": {
          "base_uri": "https://localhost:8080/",
          "height": 621
        },
        "id": "t0xvYFn0sCV3",
        "outputId": "9fdf4a34-7ac6-4a03-a5ac-4a8f8a35347a"
      }
    },
    {
      "cell_type": "markdown",
      "source": [
        "#### Creator: Ganapathi Thota , Github: [Profile](https://github.com/Shikiz)\n"
      ],
      "metadata": {
        "id": "D8fesSLMsCV3"
      }
    }
  ]
}