{
 "cells": [
  {
   "cell_type": "markdown",
   "source": [
    "# Time series analysis using AutoRegression\r\n",
    "## Coming Soon"
   ],
   "metadata": {}
  }
 ],
 "metadata": {
  "orig_nbformat": 4,
  "language_info": {
   "name": "python"
  }
 },
 "nbformat": 4,
 "nbformat_minor": 2
}