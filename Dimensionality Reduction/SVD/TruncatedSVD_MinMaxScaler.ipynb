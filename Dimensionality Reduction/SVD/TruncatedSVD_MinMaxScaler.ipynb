{
 "cells": [
  {
   "cell_type": "markdown",
   "source": [
    "# TruncatedSVD with MinMaxScaler\r\n",
    "## Coming Soon"
   ],
   "metadata": {}
  }
 ],
 "metadata": {
  "orig_nbformat": 4,
  "language_info": {
   "name": "python"
  }
 },
 "nbformat": 4,
 "nbformat_minor": 2
}