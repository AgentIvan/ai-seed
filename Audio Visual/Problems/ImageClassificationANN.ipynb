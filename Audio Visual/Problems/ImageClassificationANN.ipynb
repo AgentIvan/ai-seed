{
  "nbformat": 4,
  "nbformat_minor": 0,
  "metadata": {
    "kernelspec": {
      "display_name": "Python 3",
      "language": "python",
      "name": "python3"
    },
    "language_info": {
      "codemirror_mode": {
        "name": "ipython",
        "version": 3
      },
      "file_extension": ".py",
      "mimetype": "text/x-python",
      "name": "python",
      "nbconvert_exporter": "python",
      "pygments_lexer": "ipython3",
      "version": "3.9.0"
    },
    "colab": {
      "name": "ImageClassificationANN",
      "provenance": []
    }
  },
  "cells": [
    {
      "cell_type": "markdown",
      "metadata": {
        "id": "r4H-wl_CsXcA"
      },
      "source": [
        "# Image Classification using ANN"
      ]
    },
    {
      "cell_type": "markdown",
      "metadata": {
        "id": "cEDlhNvQsXcD"
      },
      "source": [
        "This Code Template is for Image Classification task using Artificial Neural Network (ANN)."
      ]
    },
    {
      "cell_type": "markdown",
      "metadata": {
        "id": "y0479V-VsXcF"
      },
      "source": [
        "### Required packages"
      ]
    },
    {
      "cell_type": "code",
      "metadata": {
        "id": "EBd45g4gsXcG"
      },
      "source": [
        "import warnings\n",
        "warnings.filterwarnings(\"ignore\")\n",
        "import numpy as np\n",
        "import pandas as pd\n",
        "import matplotlib.pyplot as plt\n",
        "import cv2\n",
        "import os\n",
        "import random\n",
        "from keras.layers.core import Dense\n",
        "from keras.models import Sequential\n",
        "from sklearn.model_selection import train_test_split\n",
        "from sklearn.metrics import plot_confusion_matrix, classification_report\n",
        "from sklearn import metrics"
      ],
      "execution_count": 7,
      "outputs": []
    },
    {
      "cell_type": "markdown",
      "metadata": {
        "id": "0esRBYYQsXcH"
      },
      "source": [
        "### Initialization\n",
        "Path of the main folder containing image dataset files"
      ]
    },
    {
      "cell_type": "code",
      "metadata": {
        "id": "5-GY3ZHosXcI"
      },
      "source": [
        "#load the dataset\n",
        "data = ''"
      ],
      "execution_count": 1,
      "outputs": []
    },
    {
      "cell_type": "markdown",
      "metadata": {
        "id": "DM6ZR-TEsXcJ"
      },
      "source": [
        "List of target categories which are required for model training and predictions."
      ]
    },
    {
      "cell_type": "code",
      "metadata": {
        "id": "0yEfcDkUsXcJ"
      },
      "source": [
        "target = []"
      ],
      "execution_count": 3,
      "outputs": []
    },
    {
      "cell_type": "markdown",
      "metadata": {
        "id": "2gqdT07nsXcK"
      },
      "source": [
        "### Data Fetching\n",
        "\n",
        "The OS module in Python provides functions for interacting with the operating system. This module provides a portable way of using operating system-dependent functionality. \n",
        "\n",
        "OpenCV-Python is a library of Python bindings designed to solve computer vision problems.\n",
        "\n",
        "We will use the \"**os.path**\" module to interact with the file system and the \"**cv2.imread()**\" method to load an image from the specified file path."
      ]
    },
    {
      "cell_type": "code",
      "metadata": {
        "id": "lzd_weyfsXcL"
      },
      "source": [
        "# Loading the image dataset and plotting some images from all target categories\n",
        "def plot_image(data, target):\n",
        "  count = 0\n",
        "  for category in target:\n",
        "      path=os.path.join(data, category)\n",
        "      flg = 0\n",
        "      ar = []\n",
        "      # storing image paths in an array\n",
        "      for img in os.listdir(path):\n",
        "          ar.append(os.path.join(path,img)) \n",
        "          flg+= 1\n",
        "          if flg==2:\n",
        "            break\n",
        "      # plotting the images in dataset\n",
        "      plt.figure(figsize=(5,5))\n",
        "      for i in range(2):\n",
        "        d1 = ar[i]\n",
        "        img_array = cv2.imread(d1,cv2.IMREAD_COLOR)\n",
        "        img_array = cv2.cvtColor(img_array, cv2.COLOR_BGR2RGB)\n",
        "        ax = plt.subplot(1,2,i+1)\n",
        "        plt.imshow(img_array)\n",
        "        plt.title(category)\n",
        "        plt.axis(\"off\")\n",
        "      count+= 1\n",
        "      if count == len(target):\n",
        "        break"
      ],
      "execution_count": 4,
      "outputs": []
    },
    {
      "cell_type": "code",
      "metadata": {
        "id": "nH8JgG90sXcM"
      },
      "source": [
        "plot_image(data, target)"
      ],
      "execution_count": null,
      "outputs": []
    },
    {
      "cell_type": "markdown",
      "metadata": {
        "id": "dqFaDGhwsXcN"
      },
      "source": [
        "### Data Preprocessing\n",
        "Since we are working with image data we need to preprocess our data because the machine learning model cannot work directly with images. So the images are converted into a format that our machine learning algorithm can understand. \n",
        "\n",
        "Image data is represented as a matrix, where the depth is the number of channels. An RGB image has three channels (red, green, and blue) and we create a function that firstly resizes all the images so that the model receives inputs of the same size and then stores them as an array of RGB values.\n",
        "\n",
        "The different categories of images are also read and labeled (as 0,1,2....). We finally append the images and their labelled category into a single list that acts as our final preprocessed dataset."
      ]
    },
    {
      "cell_type": "code",
      "metadata": {
        "id": "VohOI9oasXcO"
      },
      "source": [
        "def create_training_data(data,target):\n",
        "    training_data=[]\n",
        "    img_size = 50\n",
        "    for category in target:\n",
        "        path=os.path.join(data, category)\n",
        "        class_num=target.index(category)\n",
        "        for img in os.listdir(path):\n",
        "            try:\n",
        "                img_array=cv2.imread(os.path.join(path,img))\n",
        "                new_array=cv2.resize(img_array,(img_size,img_size))\n",
        "                training_data.append([new_array,class_num])\n",
        "            except Exception as e:\n",
        "                pass\n",
        "    return training_data"
      ],
      "execution_count": 10,
      "outputs": []
    },
    {
      "cell_type": "markdown",
      "metadata": {
        "id": "ZAbp18RusXcO"
      },
      "source": [
        "Calling preprocessing function on our actual image data"
      ]
    },
    {
      "cell_type": "code",
      "metadata": {
        "id": "MjbadiZ2sXcP"
      },
      "source": [
        "training_data = create_training_data(data,target) \n",
        "df = pd.DataFrame(training_data, columns=['image', 'label'])\n",
        "df.head()"
      ],
      "execution_count": null,
      "outputs": []
    },
    {
      "cell_type": "markdown",
      "metadata": {
        "id": "Z0HBnV_3sXcP"
      },
      "source": [
        "### Feature Selections\n",
        "\n",
        "After preprocessing our data into a single array, we now need to provide the input and the target features for our model. \n",
        "\n",
        "Also the XGBClassifier training model accepts dimension <=2 so we need to convert the image data to 2D by converting our features into numpy arrays and then flattening our input feature X."
      ]
    },
    {
      "cell_type": "code",
      "metadata": {
        "id": "t_a0eJIssXcP"
      },
      "source": [
        "lenofimage = len(training_data)\n",
        "X, y = [], []\n",
        "for categories, label in training_data:\n",
        "    X.append(categories)\n",
        "    y.append(label)\n",
        "# Flattening our training feature\n",
        "X = np.array(X).reshape(lenofimage,-1)\n",
        "y = np.array(y)"
      ],
      "execution_count": null,
      "outputs": []
    },
    {
      "cell_type": "markdown",
      "metadata": {
        "id": "5av8TAnysXcQ"
      },
      "source": [
        "### Data Splitting\n",
        "The train-test split is a procedure for evaluating the performance of an algorithm. The procedure involves taking a dataset and dividing it into two subsets. The first subset is utilized to fit/train the model. The second subset is used for prediction. The main motive is to estimate the performance of the model on new data."
      ]
    },
    {
      "cell_type": "code",
      "metadata": {
        "id": "BXEc3dYrsXcQ"
      },
      "source": [
        "X_train, X_test, y_train, y_test = train_test_split(X,y,test_size=0.2,random_state=123)"
      ],
      "execution_count": null,
      "outputs": []
    },
    {
      "cell_type": "markdown",
      "metadata": {
        "id": "5CQvu80tsXcR"
      },
      "source": [
        "### Model\n",
        "\n",
        "####Artificial Neural Network(ANN)\n",
        "\n",
        "The Artificial Neural Network consists of an input layer, a hidden layer, and an output layer.\n",
        "\n",
        "If ANN model has no hidden layer, it is called single layer perceptron.\n",
        "\n",
        "In contrast, MLP(Multiple Layer Perceptron) model is ANN which has multiple hidden layers (more than 1).\n",
        "\n",
        "#### Model Tuning Parameters\n",
        "> - n_estimators -> Number of Dense layer.\n",
        "\n"
      ]
    },
    {
      "cell_type": "code",
      "metadata": {
        "id": "auNBGb7-sXcR"
      },
      "source": [
        "model = Sequential()\n",
        "model.add(Dense(1024, input_shape=(3072,), activation=\"sigmoid\"))   # first hidden layer has 1024 nodes\n",
        "model.add(Dense(512, activation=\"sigmoid\"))                         # second hidden layer has 512 nodes\n",
        "\n",
        "model.fit(X_train, y_train)"
      ],
      "execution_count": null,
      "outputs": []
    },
    {
      "cell_type": "markdown",
      "metadata": {
        "id": "CqykXTJtsXcR"
      },
      "source": [
        "### Model Accuracy\n",
        "\n",
        "\n",
        "score() method return the mean accuracy on the given test data and labels.\n",
        "\n",
        "In multi-label classification, this is the subset accuracy which is a harsh metric since you require for each sample that each label set be correctly predicted."
      ]
    },
    {
      "cell_type": "code",
      "metadata": {
        "id": "mUU0yWfBsXcS",
        "outputId": "cbfb0622-54ec-4438-c836-1e6318a2c7f9"
      },
      "source": [
        "y_pred = model.predict(X_test)\n",
        "print(\"Accuracy score {:.2f} %\\n\".format(model.score(X_test,y_test)*100))"
      ],
      "execution_count": null,
      "outputs": [
        {
          "name": "stdout",
          "output_type": "stream",
          "text": [
            "Accuracy score 62.88 %\n",
            "\n"
          ]
        }
      ]
    },
    {
      "cell_type": "markdown",
      "metadata": {
        "id": "BUFZ-1G0sXcS"
      },
      "source": [
        "### Confusion Matrix\n",
        "\n",
        "A confusion matrix is utilized to understand the performance of the classification model or algorithm in machine learning for a given test set where results are known."
      ]
    },
    {
      "cell_type": "code",
      "metadata": {
        "id": "z473hLAYsXcT",
        "outputId": "8f0096b5-8277-4a2e-aa9d-2cacde979a48"
      },
      "source": [
        "plot_confusion_matrix(model,X_test,y_test,cmap=plt.cm.Blues)"
      ],
      "execution_count": null,
      "outputs": [
        {
          "data": {
            "text/plain": [
              "<sklearn.metrics._plot.confusion_matrix.ConfusionMatrixDisplay at 0x1f7a6a930a0>"
            ]
          },
          "execution_count": 13,
          "metadata": {},
          "output_type": "execute_result"
        },
        {
          "data": {
            "image/png": "[encoded data removed]",
            "text/plain": [
              "<Figure size 432x288 with 2 Axes>"
            ]
          },
          "metadata": {
            "needs_background": "light"
          },
          "output_type": "display_data"
        }
      ]
    },
    {
      "cell_type": "markdown",
      "metadata": {
        "id": "_BcXJhTjsXcT"
      },
      "source": [
        "#### Classification Report\n",
        "A Classification report is used to measure the quality of predictions from a classification algorithm. How many predictions are True, how many are False.\n",
        "\n",
        "* **where**:\n",
        "    - Precision:- Accuracy of positive predictions.\n",
        "    - Recall:- Fraction of positives that were correctly identified.\n",
        "    - f1-score:-  percent of positive predictions were correct\n",
        "    - support:- Support is the number of actual occurrences of the class in the specified dataset."
      ]
    },
    {
      "cell_type": "code",
      "metadata": {
        "id": "Z8ytec8XsXcT",
        "outputId": "ece222cd-9d20-4457-a935-f4e02d025622"
      },
      "source": [
        "print(classification_report(y_test,model.predict(X_test)))"
      ],
      "execution_count": null,
      "outputs": [
        {
          "name": "stdout",
          "output_type": "stream",
          "text": [
            "              precision    recall  f1-score   support\n",
            "\n",
            "           0       0.63      0.64      0.63       402\n",
            "           1       0.63      0.62      0.62       398\n",
            "\n",
            "    accuracy                           0.63       800\n",
            "   macro avg       0.63      0.63      0.63       800\n",
            "weighted avg       0.63      0.63      0.63       800\n",
            "\n"
          ]
        }
      ]
    },
    {
      "cell_type": "markdown",
      "metadata": {
        "id": "P9CvHdQ8sXcT"
      },
      "source": [
        "#### Creator: Arpit Somani, Github: [Profile](https://github.com/arpitsomani8)"
      ]
    }
  ]
}