{
 "cells": [
  {
   "cell_type": "markdown",
   "metadata": {},
   "source": [
    "# Simple Image Classification using VGG19"
   ]
  },
  {
   "cell_type": "markdown",
   "metadata": {},
   "source": [
    "This code template is for image classification using VGG19 model."
   ]
  },
  {
   "cell_type": "markdown",
   "metadata": {},
   "source": [
    "## Required Packages"
   ]
  },
  {
   "cell_type": "code",
   "execution_count": 56,
   "metadata": {},
   "outputs": [],
   "source": [
    "import numpy as np\n",
    "import matplotlib.pyplot as plt\n",
    "from sklearn.metrics import plot_confusion_matrix, classification_report, confusion_matrix\n",
    "import tensorflow as tf\n",
    "from tensorflow.keras.models import Sequential\n",
    "from tensorflow.keras import Input\n",
    "from tensorflow.keras.layers import Dense, Conv2D, MaxPool2D, GlobalMaxPool2D, Dropout\n",
    "from tensorflow.keras.preprocessing.image import ImageDataGenerator\n",
    "from tensorflow.keras import models\n",
    "from tensorflow.keras import layers\n",
    "from tensorflow.keras import optimizers\n",
    "from tensorflow.keras.applications import VGG19\n",
    "import seaborn as sns\n",
    "import warnings\n",
    "warnings.filterwarnings('ignore')"
   ]
  },
  {
   "cell_type": "markdown",
   "metadata": {},
   "source": [
    "## Data Preprocessing\n",
    "\n",
    "An Image occupies a significant portion of space. Since images represent huge datasets, loading them at once to memory (RAM) can lead to severe scalibility issues and memory limitations. Therefore, in practice, images are loaded directly from the directory structure.   \n",
    "\n",
    "TensorFlow 2 comes with a handy class called <Code>ImageDataGenerator</Code> that augments images. It takes the following parameters:\n",
    "\n",
    "\n",
    "1. **rotation_range**:\tInt. \n",
    ">Degree range for random rotations.\n",
    "\n",
    "2. **width_shift_range**: Float, 1-D array-like or int\n",
    "          * float: fraction of total width, if < 1, or pixels if >= 1.\n",
    "          * 1-D array-like: random elements from the array.\n",
    "          * int: integer number of pixels from interval (-width_shift_range, +width_shift_range)\n",
    "          * With width_shift_range=2 possible values are integers [-1, 0, +1], same as with width_shift_range=[-1, 0, +1], while with width_shift_range=1.0 possible values are floats in the interval [-1.0, +1.0).\n",
    "\n",
    "3. **height_shift_range**:\tFloat, 1-D array-like or int. \n",
    ">Values have similar meaning as width_shift_range\n",
    "\n",
    "4. **zoom_range**:\tFloat or [lower, upper]. \n",
    ">Range for random zoom. If a float, [lower, upper] = [1-zoom_range, 1+zoom_range].\n",
    "channel_shift_range\tFloat. Range for random channel shifts.\n",
    "\n",
    "5. **horizontal_flip**:\tBoolean. \n",
    ">Randomly flip inputs horizontally.\n",
    "\n",
    "\n",
    "6. **rescale**:\trescaling factor. Defaults to None. \n",
    ">If None or 0, no rescaling is applied, otherwise we multiply the data by the value provided (after applying all other transformations).\n",
    "\n",
    "7. **data_format**\tImage data format, either \"channels_first\" or \"channels_last\". \n",
    ">\"channels_last\" mode means that the images should have shape (samples, height, width, channels), \"channels_first\" mode means that the images should have shape (samples, channels, height, width). \n",
    "\n",
    "\n",
    "For More Info: [API](https://www.tensorflow.org/api_docs/python/tf/keras/preprocessing/image/ImageDataGenerator)"
   ]
  },
  {
   "cell_type": "markdown",
   "metadata": {},
   "source": [
    "## Flow From Directory\n",
    "\n",
    "<Code>ImageDataGenerator</Code> class uses the method <Code>flow_from_directory</Code> to load the images. However, for this method to work, it is necessary the directory follow the above directory structure.\n",
    "\n",
    "<Code>flow_from_directory</Code> takes the path to a directory & generates batches of augmented data. It takes following parameters:\n",
    "\n",
    "1. **directory**:\tstring, path to the target directory. \n",
    ">It should contain one subdirectory per class. Any PNG, JPG, BMP, PPM or TIF images inside each of the subdirectories directory tree will be included in the generator. \n",
    "\n",
    "2. **target_size**:\tTuple of integers (height, width), defaults to (256,256). \n",
    ">The dimensions to which all images found will be resized.\n",
    "color_mode\tOne of \"grayscale\", \"rgb\", \"rgba\". Default: \"rgb\". Whether the images will be converted to have 1, 3, or 4 channels.\n",
    "\n",
    "3. **classes**:\tDefault: None. \n",
    ">Optional list of class subdirectories (e.g. ['dogs', 'cats']). \n",
    "\n",
    "4. **class_mode**:\tDefault: \"categorical\". \n",
    ">One of \"categorical\", \"binary\", \"sparse\", \"input\", or None. \n",
    "\n",
    "5. **batch_size**:\tDefault: 32\n",
    ">Size of the batches of data.\n",
    "\n",
    "6. **shuffle**: Default: True\n",
    ">Whether to shuffle the data. If set to False, sorts the data in alphanumeric order.\n",
    "\n",
    "For More Info: [API](https://www.tensorflow.org/api_docs/python/tf/keras/preprocessing/image/ImageDataGenerator#flow_from_directory)"
   ]
  },
  {
   "cell_type": "code",
   "execution_count": 34,
   "metadata": {},
   "outputs": [
    {
     "name": "stdout",
     "output_type": "stream",
     "text": [
      "Found 150 images belonging to 2 classes.\n"
     ]
    }
   ],
   "source": [
    "train_datagen = ImageDataGenerator(rescale = 1./255,\n",
    "                                   shear_range = 0.2,\n",
    "                                   zoom_range = 0.2,\n",
    "                                   horizontal_flip = True)\n",
    "training_set = train_datagen.flow_from_directory('',\n",
    "                                                 target_size = (64, 64),\n",
    "                                                 batch_size = 32,\n",
    "                                                 class_mode = 'binary')"
   ]
  },
  {
   "cell_type": "code",
   "execution_count": 36,
   "metadata": {},
   "outputs": [
    {
     "name": "stdout",
     "output_type": "stream",
     "text": [
      "Found 50 images belonging to 2 classes.\n"
     ]
    }
   ],
   "source": [
    "test_datagen = ImageDataGenerator(rescale = 1./255)\n",
    "test_set = test_datagen.flow_from_directory('',\n",
    "                                            target_size = (64, 64),\n",
    "                                            batch_size = 32,\n",
    "                                            class_mode = 'binary')"
   ]
  },
  {
   "cell_type": "markdown",
   "metadata": {},
   "source": [
    "## Model\n",
    "\n",
    "**VGG19** is a variant of VGG model which in short consists of 19 layers (16 convolution layers, 3 Fully connected layer, 5 MaxPool layers and 1 SoftMax layer). There are other variants of VGG like VGG11, VGG16 and others. VGG19 has 19.6 billion FLOPs.\n",
    "\n",
    "**parameters :**\n",
    ">**include_top:** whether to include the 3 fully-connected layers at the top of the network.\n",
    "\n",
    ">**weights:** one of None (random initialization), 'imagenet' (pre-training on ImageNet), or the path to the weights file to be loaded.\n",
    "\n",
    ">**input_tensor:** optional Keras tensor (i.e. output of layers.Input()) to use as image input for the model.\n",
    "\n",
    ">**input_shape:** optional shape tuple, only to be specified if include_top is False (otherwise the input shape has to be (224, 224, 3) (with channels_last data format) or (3, 224, 224) (with channels_first data format). It should have exactly 3 inputs channels, and width and height should be no smaller than 32. E.g. (200, 200, 3) would be one valid value.\n",
    "\n",
    ">**classes:** optional number of classes to classify images into, only to be specified if include_top is True, and if no weights argument is specified.\n",
    "\n",
    ">**classifier_activation:** A str or callable. The activation function to use on the \"top\" layer. Ignored unless include_top=True. Set classifier_activation=None to return the logits of the \"top\" layer. When loading pretrained weights, classifier_activation can only be None or \"softmax\"."
   ]
  },
  {
   "cell_type": "code",
   "execution_count": 40,
   "metadata": {},
   "outputs": [],
   "source": [
    "loss = \"sparse_categorical_crossentropy\" \n",
    "output_activation = 'softmax'\n",
    "learning_rate = 0.0005 #Default = 0.001\n",
    "epochs = 25\n",
    "NUM_COLOR_CHANNELS = 3"
   ]
  },
  {
   "cell_type": "code",
   "execution_count": 41,
   "metadata": {},
   "outputs": [],
   "source": [
    "conv_base = VGG19(weights='imagenet',\n",
    "                  include_top=False,\n",
    "                  input_shape=(64, 64, 3))"
   ]
  },
  {
   "cell_type": "code",
   "execution_count": 42,
   "metadata": {},
   "outputs": [],
   "source": [
    "model = models.Sequential()\n",
    "model.add(conv_base)\n",
    "model.add(layers.Flatten())\n",
    "model.add(layers.Dense(64, activation='relu'))\n",
    "model.add(layers.Dense(2, activation=output_activation))"
   ]
  },
  {
   "cell_type": "code",
   "execution_count": 43,
   "metadata": {},
   "outputs": [
    {
     "name": "stdout",
     "output_type": "stream",
     "text": [
      "Model: \"sequential_2\"\n",
      "_________________________________________________________________\n",
      "Layer (type)                 Output Shape              Param #   \n",
      "=================================================================\n",
      "vgg19 (Functional)           (None, 2, 2, 512)         20024384  \n",
      "_________________________________________________________________\n",
      "flatten_2 (Flatten)          (None, 2048)              0         \n",
      "_________________________________________________________________\n",
      "dense_4 (Dense)              (None, 64)                131136    \n",
      "_________________________________________________________________\n",
      "dense_5 (Dense)              (None, 2)                 130       \n",
      "=================================================================\n",
      "Total params: 20,155,650\n",
      "Trainable params: 20,155,650\n",
      "Non-trainable params: 0\n",
      "_________________________________________________________________\n"
     ]
    }
   ],
   "source": [
    "model.summary()"
   ]
  },
  {
   "cell_type": "code",
   "execution_count": 44,
   "metadata": {},
   "outputs": [],
   "source": [
    "model.compile(loss=loss,\n",
    "              optimizer=optimizers.RMSprop(learning_rate=learning_rate),\n",
    "              metrics=['acc'])"
   ]
  },
  {
   "cell_type": "code",
   "execution_count": 45,
   "metadata": {},
   "outputs": [
    {
     "name": "stdout",
     "output_type": "stream",
     "text": [
      "Epoch 1/25\n",
      "5/5 [==============================] - 28s 5s/step - loss: 3298.0105 - acc: 0.5267\n",
      "Epoch 2/25\n",
      "5/5 [==============================] - 21s 4s/step - loss: 0.7474 - acc: 0.4333\n",
      "Epoch 3/25\n",
      "5/5 [==============================] - 21s 4s/step - loss: 0.7193 - acc: 0.4467\n",
      "Epoch 4/25\n",
      "5/5 [==============================] - 22s 5s/step - loss: 0.7133 - acc: 0.4667\n",
      "Epoch 5/25\n",
      "5/5 [==============================] - 21s 4s/step - loss: 0.6945 - acc: 0.5600\n",
      "Epoch 6/25\n",
      "5/5 [==============================] - 21s 4s/step - loss: 0.6954 - acc: 0.5200\n",
      "Epoch 7/25\n",
      "5/5 [==============================] - 22s 4s/step - loss: 0.7280 - acc: 0.4200\n",
      "Epoch 8/25\n",
      "5/5 [==============================] - 22s 4s/step - loss: 0.7156 - acc: 0.4333\n",
      "Epoch 9/25\n",
      "5/5 [==============================] - 23s 5s/step - loss: 0.6955 - acc: 0.5067\n",
      "Epoch 10/25\n",
      "5/5 [==============================] - 23s 5s/step - loss: 0.7043 - acc: 0.4600\n",
      "Epoch 11/25\n",
      "5/5 [==============================] - 23s 5s/step - loss: 0.6899 - acc: 0.5000\n",
      "Epoch 12/25\n",
      "5/5 [==============================] - 23s 5s/step - loss: 0.7028 - acc: 0.4733\n",
      "Epoch 13/25\n",
      "5/5 [==============================] - 23s 5s/step - loss: 0.7209 - acc: 0.4933\n",
      "Epoch 14/25\n",
      "5/5 [==============================] - 22s 4s/step - loss: 0.7121 - acc: 0.4800\n",
      "Epoch 15/25\n",
      "5/5 [==============================] - 22s 4s/step - loss: 0.6995 - acc: 0.5000\n",
      "Epoch 16/25\n",
      "5/5 [==============================] - 22s 4s/step - loss: 0.6986 - acc: 0.5133\n",
      "Epoch 17/25\n",
      "5/5 [==============================] - 22s 4s/step - loss: 0.6996 - acc: 0.5400\n",
      "Epoch 18/25\n",
      "5/5 [==============================] - 22s 4s/step - loss: 0.6968 - acc: 0.5200\n",
      "Epoch 19/25\n",
      "5/5 [==============================] - 23s 5s/step - loss: 0.7431 - acc: 0.6000\n",
      "Epoch 20/25\n",
      "5/5 [==============================] - 22s 4s/step - loss: 0.7146 - acc: 0.5267\n",
      "Epoch 21/25\n",
      "5/5 [==============================] - 26s 5s/step - loss: 0.6851 - acc: 0.5533\n",
      "Epoch 22/25\n",
      "5/5 [==============================] - 26s 5s/step - loss: 0.8636 - acc: 0.5467\n",
      "Epoch 23/25\n",
      "5/5 [==============================] - 25s 4s/step - loss: 0.7087 - acc: 0.5667\n",
      "Epoch 24/25\n",
      "5/5 [==============================] - 22s 4s/step - loss: 0.7081 - acc: 0.5267\n",
      "Epoch 25/25\n",
      "5/5 [==============================] - 22s 5s/step - loss: 0.7252 - acc: 0.5667\n"
     ]
    }
   ],
   "source": [
    "history = model.fit(training_set,\n",
    "                    epochs=epochs)"
   ]
  },
  {
   "cell_type": "code",
   "execution_count": 27,
   "metadata": {},
   "outputs": [],
   "source": [
    "def plot_model(model_name_history, metric_name):\n",
    "    # Plot loss per iteration\n",
    "    fig, ax = plt.subplots(1, 2,figsize=(15,5))\n",
    "\n",
    "    ax[0].plot(model_name_history.history['loss'], label='loss')\n",
    "    ax[0].plot(model_name_history.history['val_loss'], label='val_loss')\n",
    "    ax[0].legend()\n",
    "    \n",
    "    # Plot accuracy per iteration\n",
    "    ax[1].plot(model_name_history.history[metric_name], label='accuracy')\n",
    "    ax[1].plot(model_name_history.history[f\"val_{metric_name}\"], label='val_accuracy')\n",
    "    ax[1].legend()"
   ]
  },
  {
   "cell_type": "markdown",
   "metadata": {},
   "source": [
    "## Plot Curves\n",
    "\n",
    "Plot loss and accuracy metrics to see how the model trains"
   ]
  },
  {
   "cell_type": "code",
   "execution_count": 28,
   "metadata": {
    "scrolled": true
   },
   "outputs": [
    {
     "data": {
      "image/png": "[encoded data removed]",
      "text/plain": [
       "<Figure size 1080x360 with 2 Axes>"
      ]
     },
     "metadata": {
      "needs_background": "light"
     },
     "output_type": "display_data"
    }
   ],
   "source": [
    "plot_model(history,'acc')"
   ]
  },
  {
   "cell_type": "markdown",
   "metadata": {},
   "source": [
    "## Model Evaluation"
   ]
  },
  {
   "cell_type": "code",
   "execution_count": 46,
   "metadata": {},
   "outputs": [
    {
     "name": "stdout",
     "output_type": "stream",
     "text": [
      "2/2 [==============================] - 2s 653ms/step - loss: 0.7099 - acc: 0.5000\n",
      "Loss:  0.7099317312240601\n",
      "Accuracy Score:  0.5\n"
     ]
    }
   ],
   "source": [
    "predictions = model.predict(test_set)\n",
    "y_pred = np.argmax(predictions,axis = 1)\n",
    "y_test = test_set.classes\n",
    "class_labels = list(test_set.class_indices.keys())   \n",
    "loss, accuracy = model.evaluate(test_set)\n",
    "print(\"Loss: \", loss)\n",
    "print(\"Accuracy Score: \",accuracy)"
   ]
  },
  {
   "cell_type": "markdown",
   "metadata": {},
   "source": [
    "## Confusion Matrix\n",
    "\n",
    "A confusion matrix is utilized to understand the performance of the classification model or algorithm in machine learning for a given test set where results are known."
   ]
  },
  {
   "cell_type": "code",
   "execution_count": 47,
   "metadata": {},
   "outputs": [],
   "source": [
    "def get_confusion_matrix(data, N):\n",
    "    print(\"Generating confusion matrix\", N)\n",
    "    predictions = []\n",
    "    targets = []\n",
    "    i = 0\n",
    "    for x, y in data:\n",
    "        i += 1\n",
    "        if i % 50 == 0:\n",
    "            print(i)\n",
    "        p = model.predict(x)\n",
    "        y_pred = np.argmax(p,axis = 1)\n",
    "        predictions = np.concatenate((predictions, y_pred))\n",
    " \n",
    "        targets = np.concatenate((targets, y))\n",
    "        if len(targets) >= N:\n",
    "            break\n",
    "    cm = confusion_matrix(targets, predictions)\n",
    "    return cm"
   ]
  },
  {
   "cell_type": "code",
   "execution_count": 49,
   "metadata": {},
   "outputs": [
    {
     "name": "stdout",
     "output_type": "stream",
     "text": [
      "Generating confusion matrix 2\n"
     ]
    },
    {
     "data": {
      "image/png": "[encoded data removed]",
      "text/plain": [
       "<Figure size 432x288 with 2 Axes>"
      ]
     },
     "metadata": {
      "needs_background": "light"
     },
     "output_type": "display_data"
    }
   ],
   "source": [
    "cm = get_confusion_matrix(test_set, len(test_set))\n",
    "sns.heatmap(cm,\n",
    "            annot = True,\n",
    "            fmt = 'd',\n",
    "            xticklabels=class_labels, \n",
    "            yticklabels= class_labels,\n",
    "            cmap = plt.cm.Blues)\n",
    "plt.show()"
   ]
  },
  {
   "cell_type": "markdown",
   "metadata": {},
   "source": [
    "## Classification Report\n",
    "A Classification report is used to measure the quality of predictions from a classification algorithm. How many predictions are True, how many are False.\n",
    "\n",
    "* **where**:\n",
    "    - Precision:- Accuracy of positive predictions.\n",
    "    - Recall:- Fraction of positives that were correctly identified.\n",
    "    - f1-score:-  percent of positive predictions were correct\n",
    "    - support:- Support is the number of actual occurrences of the class in the specified dataset."
   ]
  },
  {
   "cell_type": "code",
   "execution_count": 57,
   "metadata": {},
   "outputs": [
    {
     "name": "stdout",
     "output_type": "stream",
     "text": [
      "              precision    recall  f1-score   support\n",
      "\n",
      "           0       0.50      1.00      0.67        25\n",
      "           1       0.00      0.00      0.00        25\n",
      "\n",
      "    accuracy                           0.50        50\n",
      "   macro avg       0.25      0.50      0.33        50\n",
      "weighted avg       0.25      0.50      0.33        50\n",
      "\n"
     ]
    }
   ],
   "source": [
    "print(classification_report(y_test, y_pred))"
   ]
  },
  {
   "cell_type": "markdown",
   "metadata": {},
   "source": [
    "## Creator:Abhishek Garg ,Github [Profile](https://github.com/abhishek-252)"
   ]
  }
 ],
 "metadata": {
  "kernelspec": {
   "display_name": "Python 3",
   "language": "python",
   "name": "python3"
  },
  "language_info": {
   "codemirror_mode": {
    "name": "ipython",
    "version": 3
   },
   "file_extension": ".py",
   "mimetype": "text/x-python",
   "name": "python",
   "nbconvert_exporter": "python",
   "pygments_lexer": "ipython3",
   "version": "3.8.3"
  }
 },
 "nbformat": 4,
 "nbformat_minor": 4
}
