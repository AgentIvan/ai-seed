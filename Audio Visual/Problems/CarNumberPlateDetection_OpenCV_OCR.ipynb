{
 "cells": [
  {
   "cell_type": "markdown",
   "metadata": {},
   "source": [
    "# Car Number Plate Detection using OpenCV and OCR"
   ]
  },
  {
   "cell_type": "markdown",
   "metadata": {},
   "source": [
    "This code template is for car number plate detection using OpenCV and OCR\n",
    "\n",
    "![gpu](gpu_required.png)"
   ]
  },
  {
   "cell_type": "markdown",
   "metadata": {},
   "source": [
    "## Required Packages"
   ]
  },
  {
   "cell_type": "code",
   "execution_count": 1,
   "metadata": {},
   "outputs": [],
   "source": [
    "!pip install opencv-python\n",
    "!pip install easyocr"
   ]
  },
  {
   "cell_type": "code",
   "execution_count": 2,
   "metadata": {},
   "outputs": [],
   "source": [
    "import cv2\n",
    "import numpy as np\n",
    "import easyocr\n",
    "import matplotlib.pyplot as plt\n",
    "%matplotlib inline"
   ]
  },
  {
   "cell_type": "markdown",
   "metadata": {},
   "source": [
    "## Initialization\n",
    "\n",
    "Path of the image to be loaded"
   ]
  },
  {
   "cell_type": "code",
   "execution_count": 3,
   "metadata": {},
   "outputs": [],
   "source": [
    "im_1_path = ''"
   ]
  },
  {
   "cell_type": "markdown",
   "metadata": {},
   "source": [
    "## EasyOCR\n",
    "EasyOCR optical character recognition library reads short texts (such as serial numbers,recognizes numberplat, part numbers and dates).\n",
    "\n",
    "It uses font files (pre-defined OCR-A, OCR-B and Semi standard fonts, or other learned fonts ) with a template matching algorithm that can recognize even badly printed, broken or connected characters of any size.\n",
    "\n",
    "#### Reading our image\n",
    "OpenCV-Python is a library of Python bindings designed to solve computer vision problems.\n",
    "\n",
    "We use the the \"cv2.imread()\" method to load an image from the specified file path."
   ]
  },
  {
   "cell_type": "code",
   "execution_count": 4,
   "metadata": {},
   "outputs": [],
   "source": [
    "def recognize_text(img_path):\n",
    "    reader = easyocr.Reader(['en'])\n",
    "    return reader.readtext(img_path)"
   ]
  },
  {
   "cell_type": "code",
   "execution_count": 5,
   "metadata": {},
   "outputs": [],
   "source": [
    "def overlay_ocr_text(img_path, save_name):\n",
    "    '''loads an image, recognizes numberplat, and overlays the text on the image.'''\n",
    "    \n",
    "    # loads image\n",
    "    img = cv2.imread(img_path)\n",
    "    img = cv2.cvtColor(img, cv2.COLOR_BGR2RGB)\n",
    "    \n",
    "    dpi = 80\n",
    "    fig_width, fig_height = int(img.shape[0]/dpi), int(img.shape[1]/dpi)\n",
    "    plt.figure()\n",
    "    f, axarr = plt.subplots(1,2, figsize=(fig_width, fig_height)) \n",
    "    axarr[0].imshow(img)\n",
    "    \n",
    "    # recognize text\n",
    "    result = recognize_text(img_path)\n",
    "\n",
    "    # if OCR prob is over 0.5, overlay bounding box and text\n",
    "    for (bbox, text, prob) in result:\n",
    "        if prob >= 0.5:\n",
    "            # display \n",
    "            print(f'Detected text: {text} (Probability: {prob:.2f})')\n",
    "\n",
    "            # get top-left and bottom-right bbox vertices\n",
    "            (top_left, top_right, bottom_right, bottom_left) = bbox\n",
    "            top_left = (int(top_left[0]), int(top_left[1]))\n",
    "            bottom_right = (int(bottom_right[0]), int(bottom_right[1]))\n",
    "\n",
    "            # create a rectangle for bbox display\n",
    "            cv2.rectangle(img=img, pt1=top_left, pt2=bottom_right, color=(255, 0, 0), thickness=10)\n",
    "\n",
    "            # put recognized text\n",
    "            cv2.putText(img=img, text=text, org=(top_left[0], top_left[1] - 10), fontFace=cv2.FONT_HERSHEY_SIMPLEX, fontScale=1, color=(255, 0, 0), thickness=8)\n",
    "        \n",
    "    # show and save image\n",
    "   \n",
    "    axarr[1].imshow(img)\n",
    "    plt.savefig(f'{save_name}_overlay.jpg', bbox_inches='tight')\n",
    "    "
   ]
  },
  {
   "cell_type": "code",
   "execution_count": 6,
   "metadata": {},
   "outputs": [
    {
     "name": "stderr",
     "output_type": "stream",
     "text": [
      "CUDA not available - defaulting to CPU. Note: This module is much faster with a GPU.\n"
     ]
    },
    {
     "data": {
      "text/plain": [
       "<Figure size 432x288 with 0 Axes>"
      ]
     },
     "metadata": {},
     "output_type": "display_data"
    },
    {
     "data": {
      "image/png": "[encoded data removed]",
      "text/plain": [
       "<Figure size 144x288 with 2 Axes>"
      ]
     },
     "metadata": {
      "needs_background": "light"
     },
     "output_type": "display_data"
    }
   ],
   "source": [
    "overlay_ocr_text(im_1_path, '1_carplate')\n"
   ]
  },
  {
   "cell_type": "markdown",
   "metadata": {},
   "source": [
    "### Creator: Vipin Kumar , Github: [Profile](https://github.com/devVipin01)"
   ]
  }
 ],
 "metadata": {
  "kernelspec": {
   "display_name": "Python 3",
   "language": "python",
   "name": "python3"
  },
  "language_info": {
   "codemirror_mode": {
    "name": "ipython",
    "version": 3
   },
   "file_extension": ".py",
   "mimetype": "text/x-python",
   "name": "python",
   "nbconvert_exporter": "python",
   "pygments_lexer": "ipython3",
   "version": "3.7.3"
  }
 },
 "nbformat": 4,
 "nbformat_minor": 2
}
