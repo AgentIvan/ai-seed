{
 "cells": [
  {
   "cell_type": "markdown",
   "source": [
    "# Face Detection using OpenCv\r\n",
    "## Coming Soon"
   ],
   "metadata": {}
  }
 ],
 "metadata": {
  "orig_nbformat": 4,
  "language_info": {
   "name": "python"
  }
 },
 "nbformat": 4,
 "nbformat_minor": 2
}