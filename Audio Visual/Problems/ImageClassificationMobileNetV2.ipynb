{
 "cells": [
  {
   "cell_type": "markdown",
   "metadata": {
    "id": "_IseXjFO4uYX"
   },
   "source": [
    "# Image Classification using MobileNetV2"
   ]
  },
  {
   "cell_type": "markdown",
   "metadata": {
    "id": "BmwGkxNO42AM"
   },
   "source": [
    "This Code Template is for simple image classification using MobileNetV2.\n",
    "\n",
    "<img src=\"https://cdn.blobcity.com/assets/gpu_required.png\"  height=\"25\" style=\"margin-bottom:-15px\" />"
   ]
  },
  {
   "cell_type": "markdown",
   "metadata": {
    "id": "uEPRKGFE5B2z"
   },
   "source": [
    "### Required Packages"
   ]
  },
  {
   "cell_type": "code",
   "execution_count": 27,
   "metadata": {
    "executionInfo": {
     "elapsed": 4015,
     "status": "ok",
     "timestamp": 1633020884422,
     "user": {
      "displayName": "Jay Shimpi",
      "photoUrl": "https://lh3.googleusercontent.com/a/default-user=s64",
      "userId": "04516639510063165116"
     },
     "user_tz": -330
    },
    "id": "y5CYkfPZ4Ais"
   },
   "outputs": [],
   "source": [
    "import os\n",
    "import shutil\n",
    "import numpy as np\n",
    "from glob import glob\n",
    "import itertools\n",
    "from sklearn.metrics import plot_confusion_matrix, classification_report, confusion_matrix\n",
    "\n",
    "import tensorflow as tf\n",
    "\n",
    "from tensorflow.keras.models import Sequential\n",
    "from tensorflow.keras import Input\n",
    "from tensorflow.keras.layers import Dense, Conv2D, MaxPool2D, GlobalMaxPool2D, Dropout\n",
    "from tensorflow.keras.preprocessing.image import ImageDataGenerator\n",
    "from tensorflow.keras import models\n",
    "from tensorflow.keras import layers\n",
    "from tensorflow.keras import optimizers\n",
    "from tensorflow.keras.applications import MobileNetV2\n",
    "\n",
    "import matplotlib.pyplot as plt\n",
    "import cv2\n",
    "import random\n",
    "import seaborn as sns"
   ]
  },
  {
   "cell_type": "markdown",
   "metadata": {
    "id": "itT_oAgW5Kvv"
   },
   "source": [
    "### Initialization\n",
    "Path of the main folder containing train and test folders"
   ]
  },
  {
   "cell_type": "code",
   "execution_count": 35,
   "metadata": {
    "executionInfo": {
     "elapsed": 1083,
     "status": "ok",
     "timestamp": 1633022614102,
     "user": {
      "displayName": "Jay Shimpi",
      "photoUrl": "https://lh3.googleusercontent.com/a/default-user=s64",
      "userId": "04516639510063165116"
     },
     "user_tz": -330
    },
    "id": "uhEP9f0x5ROy"
   },
   "outputs": [],
   "source": [
    "base_dir = os.path.dirname('')"
   ]
  },
  {
   "cell_type": "markdown",
   "metadata": {
    "id": "8gYjaGQyHHX3"
   },
   "source": [
    "Path of the train and test folders containing image files"
   ]
  },
  {
   "cell_type": "code",
   "execution_count": 36,
   "metadata": {
    "executionInfo": {
     "elapsed": 6,
     "status": "ok",
     "timestamp": 1633022617670,
     "user": {
      "displayName": "Jay Shimpi",
      "photoUrl": "https://lh3.googleusercontent.com/a/default-user=s64",
      "userId": "04516639510063165116"
     },
     "user_tz": -330
    },
    "id": "fcyoPvH7HGlZ"
   },
   "outputs": [],
   "source": [
    "train_dir = os.path.join(base_dir, 'train') #train\n",
    "test_dir = os.path.join(base_dir, 'test') #test"
   ]
  },
  {
   "cell_type": "markdown",
   "metadata": {
    "id": "VPa7WWym_AJ_"
   },
   "source": [
    "List of target categories which are required for model training and predictions."
   ]
  },
  {
   "cell_type": "code",
   "execution_count": 38,
   "metadata": {
    "executionInfo": {
     "elapsed": 5,
     "status": "ok",
     "timestamp": 1633022621933,
     "user": {
      "displayName": "Jay Shimpi",
      "photoUrl": "https://lh3.googleusercontent.com/a/default-user=s64",
      "userId": "04516639510063165116"
     },
     "user_tz": -330
    },
    "id": "gTCHKxKa--au"
   },
   "outputs": [],
   "source": [
    "target = []"
   ]
  },
  {
   "cell_type": "markdown",
   "metadata": {
    "id": "URnW3qJP5ZtE"
   },
   "source": [
    "### Data Fetching\n",
    "\n",
    "The OS module in Python provides functions for interacting with the operating system. This module provides a portable way of using operating system-dependent functionality.\n",
    "\n",
    "OpenCV-Python is a library of Python bindings designed to solve computer vision problems.\n",
    "\n",
    "We will use the <Code>os.path</Code> module to interact with the file system and the <Code>cv2.imread()</Code> method to load an image from the specified file path.\n",
    "\n",
    "### Directory Structure\n",
    "<pre style=\"font-size: 10.0pt; font-family: Arial; line-height: 2; letter-spacing: 1.0pt;\" >\n",
    "<b>Master Directory</b>\n",
    " |__<b>train</b>\n",
    "    |______ <b>Class 1</b>: [1.jpg, 2.jpg, 3.jpg ....]\n",
    "    |______ <b>Class 2</b>: [1.jpg, 2.jpg, 3.jpg ....]\n",
    "    |______ <b>Class 3</b>: [1.jpg, 2.jpg, 3.jpg ....]\n",
    "    :\n",
    "    :\n",
    " |__<b>test</b>\n",
    "    |______ <b>Class 1</b>: [1.jpg, 2.jpg, 3.jpg ....]\n",
    "    |______ <b>Class 2</b>: [1.jpg, 2.jpg, 3.jpg ....]\n",
    "    |______ <b>Class 3</b>: [1.jpg, 2.jpg, 3.jpg ....]\n",
    "    :\n",
    "    :\n",
    "</pre>"
   ]
  },
  {
   "cell_type": "code",
   "execution_count": 39,
   "metadata": {
    "executionInfo": {
     "elapsed": 6696,
     "status": "ok",
     "timestamp": 1633022633565,
     "user": {
      "displayName": "Jay Shimpi",
      "photoUrl": "https://lh3.googleusercontent.com/a/default-user=s64",
      "userId": "04516639510063165116"
     },
     "user_tz": -330
    },
    "id": "4YuB7pA0nIfF"
   },
   "outputs": [],
   "source": [
    "# useful for getting number of files\n",
    "train_image_files = glob(train_dir + '/*/*.jp*g')\n",
    "test_image_files = glob(test_dir + '/*/*.jp*g')"
   ]
  },
  {
   "cell_type": "code",
   "execution_count": 40,
   "metadata": {
    "executionInfo": {
     "elapsed": 334,
     "status": "ok",
     "timestamp": 1633022639325,
     "user": {
      "displayName": "Jay Shimpi",
      "photoUrl": "https://lh3.googleusercontent.com/a/default-user=s64",
      "userId": "04516639510063165116"
     },
     "user_tz": -330
    },
    "id": "bFLb0MTV5ZBV"
   },
   "outputs": [],
   "source": [
    "# Loading the image dataset and plotting some images from all target categories\n",
    "def plot_image(data, target):\n",
    "  count = 0\n",
    "  for category in target:\n",
    "      path=os.path.join(data, category)\n",
    "      flg = 0\n",
    "      ar = []\n",
    "      # storing image paths in an array\n",
    "      for img in os.listdir(path):\n",
    "          ar.append(os.path.join(path,img)) \n",
    "          flg+= 1\n",
    "          if flg==2:\n",
    "            break\n",
    "      # plotting the images in dataset\n",
    "      plt.figure(figsize=(5,5))\n",
    "      for i in range(2):\n",
    "        d1 = ar[i]\n",
    "        img_array = cv2.imread(d1,cv2.IMREAD_COLOR)\n",
    "        img_array = cv2.cvtColor(img_array, cv2.COLOR_BGR2RGB)\n",
    "        ax = plt.subplot(1,2,i+1)\n",
    "        plt.imshow(img_array)\n",
    "        plt.title(category)\n",
    "        plt.axis(\"off\")\n",
    "      count+= 1\n",
    "      if count == len(target):\n",
    "        break"
   ]
  },
  {
   "cell_type": "code",
   "execution_count": 41,
   "metadata": {
    "colab": {
     "base_uri": "https://localhost:8080/",
     "height": 331
    },
    "executionInfo": {
     "elapsed": 2370,
     "status": "ok",
     "timestamp": 1633022643120,
     "user": {
      "displayName": "Jay Shimpi",
      "photoUrl": "https://lh3.googleusercontent.com/a/default-user=s64",
      "userId": "04516639510063165116"
     },
     "user_tz": -330
    },
    "id": "bJNRwtit-Df6",
    "outputId": "5bbcf144-9086-4e07-9f54-a76f2749afa6"
   },
   "outputs": [
    {
     "data": {
      "image/png": "[encoded data removed]",
      "text/plain": [
       "<Figure size 360x360 with 2 Axes>"
      ]
     },
     "metadata": {
      "needs_background": "light"
     },
     "output_type": "display_data"
    },
    {
     "data": {
      "image/png": "[encoded data removed]",
      "text/plain": [
       "<Figure size 360x360 with 2 Axes>"
      ]
     },
     "metadata": {
      "needs_background": "light"
     },
     "output_type": "display_data"
    }
   ],
   "source": [
    "plot_image(train_dir,target)"
   ]
  },
  {
   "cell_type": "markdown",
   "metadata": {
    "id": "moH4jmUc_N8G"
   },
   "source": [
    "### Data Preprocessing\n",
    "\n",
    "An Image occupies a significant portion of space. Since images represent huge datasets, loading them at once to memory (RAM) can lead to severe scalibility issues and memory limitations. Therefore, in practice, images are loaded directly from the directory structure.   \n",
    "\n",
    "TensorFlow 2 comes with a handy class called <Code>ImageDataGenerator</Code> that augments images. It takes the following parameters:\n",
    "\n",
    "\n",
    "1. **rotation_range**:\tInt. \n",
    ">Degree range for random rotations.\n",
    "\n",
    "2. **width_shift_range**: Float, 1-D array-like or int\n",
    "          * float: fraction of total width, if < 1, or pixels if >= 1.\n",
    "          * 1-D array-like: random elements from the array.\n",
    "          * int: integer number of pixels from interval (-width_shift_range, +width_shift_range)\n",
    "          * With width_shift_range=2 possible values are integers [-1, 0, +1], same as with width_shift_range=[-1, 0, +1], while with width_shift_range=1.0 possible values are floats in the interval [-1.0, +1.0).\n",
    "\n",
    "3. **height_shift_range**:\tFloat, 1-D array-like or int. \n",
    ">Values have similar meaning as width_shift_range\n",
    "\n",
    "4. **zoom_range**:\tFloat or [lower, upper]. \n",
    ">Range for random zoom. If a float, [lower, upper] = [1-zoom_range, 1+zoom_range].\n",
    "channel_shift_range\tFloat. Range for random channel shifts.\n",
    "\n",
    "5. **horizontal_flip**:\tBoolean. \n",
    ">Randomly flip inputs horizontally.\n",
    "\n",
    "\n",
    "6. **rescale**:\trescaling factor. Defaults to None. \n",
    ">If None or 0, no rescaling is applied, otherwise we multiply the data by the value provided (after applying all other transformations).\n",
    "\n",
    "7. **data_format**\tImage data format, either \"channels_first\" or \"channels_last\". \n",
    ">\"channels_last\" mode means that the images should have shape (samples, height, width, channels), \"channels_first\" mode means that the images should have shape (samples, channels, height, width). \n",
    "\n",
    "\n",
    "For more information, refer to the [API](https://www.tensorflow.org/api_docs/python/tf/keras/preprocessing/image/ImageDataGenerator#args)"
   ]
  },
  {
   "cell_type": "code",
   "execution_count": 42,
   "metadata": {
    "executionInfo": {
     "elapsed": 355,
     "status": "ok",
     "timestamp": 1633022646526,
     "user": {
      "displayName": "Jay Shimpi",
      "photoUrl": "https://lh3.googleusercontent.com/a/default-user=s64",
      "userId": "04516639510063165116"
     },
     "user_tz": -330
    },
    "id": "mqffX-vmGcQa"
   },
   "outputs": [],
   "source": [
    "train_datagenerator = ImageDataGenerator(rescale=1./255,\n",
    "                                         rotation_range=20,\n",
    "                                         width_shift_range=.15,\n",
    "                                         height_shift_range=.15,\n",
    "                                         horizontal_flip=True,\n",
    "                                         zoom_range=0.2,\n",
    "                                         data_format = \"channels_last\")\n",
    "\n",
    "test_datagenerator = ImageDataGenerator(rescale = 1./255) #No need for augmentation for test dataset"
   ]
  },
  {
   "cell_type": "markdown",
   "metadata": {
    "id": "fbmuPGUVDAaB"
   },
   "source": [
    "### Flow From Directory\n",
    "\n",
    "<Code>ImageDataGenerator</Code> class uses the method <Code>flow_from_directory</Code> to load the images. However, for this method to work, it is necessary the directory follow the above directory structure.\n",
    "\n",
    "<Code>flow_from_directory</Code> takes the path to a directory & generates batches of augmented data. It takes following parameters:\n",
    "\n",
    "1. **directory**:\tstring, path to the target directory. \n",
    ">It should contain one subdirectory per class. Any PNG, JPG, BMP, PPM or TIF images inside each of the subdirectories directory tree will be included in the generator. \n",
    "\n",
    "2. **target_size**:\tTuple of integers (height, width), defaults to (256,256). \n",
    ">The dimensions to which all images found will be resized.\n",
    "color_mode\tOne of \"grayscale\", \"rgb\", \"rgba\". Default: \"rgb\". Whether the images will be converted to have 1, 3, or 4 channels.\n",
    "\n",
    "3. **classes**:\tDefault: None. \n",
    ">Optional list of class subdirectories (e.g. ['dogs', 'cats']). \n",
    "\n",
    "4. **class_mode**:\tDefault: \"categorical\". \n",
    ">One of \"categorical\", \"binary\", \"sparse\", \"input\", or None. \n",
    "\n",
    "5. **batch_size**:\tDefault: 32\n",
    ">Size of the batches of data.\n",
    "\n",
    "6. **shuffle**: Default: True\n",
    ">Whether to shuffle the data. If set to False, sorts the data in alphanumeric order.\n",
    "\n",
    "For more information, refer to the [API](https://www.tensorflow.org/api_docs/python/tf/keras/preprocessing/image/ImageDataGenerator#flow_from_directory)"
   ]
  },
  {
   "cell_type": "code",
   "execution_count": 43,
   "metadata": {
    "colab": {
     "base_uri": "https://localhost:8080/"
    },
    "executionInfo": {
     "elapsed": 349,
     "status": "ok",
     "timestamp": 1633022650357,
     "user": {
      "displayName": "Jay Shimpi",
      "photoUrl": "https://lh3.googleusercontent.com/a/default-user=s64",
      "userId": "04516639510063165116"
     },
     "user_tz": -330
    },
    "id": "P9evm6SOGZz0",
    "outputId": "21a56ec5-65d9-41c6-c51b-aa8bdd1f9199"
   },
   "outputs": [
    {
     "name": "stdout",
     "output_type": "stream",
     "text": [
      "Found 2396 images belonging to 2 classes.\n",
      "Found 244 images belonging to 2 classes.\n"
     ]
    }
   ],
   "source": [
    "batch_size = 64 # number of images to process at a time \n",
    "IMG_SHAPE = 224 # convert all images to be 224 x 224\n",
    "\n",
    "train_data = train_datagenerator.flow_from_directory(directory = train_dir,\n",
    "                                                     batch_size = batch_size,\n",
    "                                                     target_size = (IMG_SHAPE, IMG_SHAPE),\n",
    "                                                     shuffle = True, #for training only\n",
    "                                                     class_mode = 'sparse', #type of problem (sparse, binary, or categorical, etc.)\n",
    "                                                     classes = target)  \n",
    "\n",
    "test_data = test_datagenerator.flow_from_directory(directory = test_dir,\n",
    "                                                   batch_size = batch_size,\n",
    "                                                   target_size = (IMG_SHAPE, IMG_SHAPE),\n",
    "                                                   shuffle = False,\n",
    "                                                   class_mode = 'sparse',\n",
    "                                                   classes = target)"
   ]
  },
  {
   "cell_type": "markdown",
   "metadata": {
    "id": "bHJLZcqOIvGP"
   },
   "source": [
    "### Model\n",
    "**MobileNetV2**\n",
    "\n",
    "This function returns a Keras image classification model, optionally loaded with weights pre-trained on ImageNet.\n",
    "\n",
    "For image classification use cases, see this page for detailed examples.\n",
    "\n",
    "For transfer learning use cases, make sure to read the guide to transfer learning & fine-tuning.\n",
    "\n",
    "Note: each Keras Application expects a specific kind of input preprocessing. For MobileNet, call tf.keras.applications.mobilenet.preprocess_input on your inputs before passing them to the model. mobilenet.preprocess_input will scale input pixels between -1 and 1.\n",
    "    \n",
    "For more Information: \n",
    "\n",
    "[Refer](https://keras.io/api/applications/mobilenet/)"
   ]
  },
  {
   "cell_type": "code",
   "execution_count": 53,
   "metadata": {
    "executionInfo": {
     "elapsed": 467,
     "status": "ok",
     "timestamp": 1633023553077,
     "user": {
      "displayName": "Jay Shimpi",
      "photoUrl": "https://lh3.googleusercontent.com/a/default-user=s64",
      "userId": "04516639510063165116"
     },
     "user_tz": -330
    },
    "id": "i57UQjcKvnuK"
   },
   "outputs": [],
   "source": [
    "loss = \"sparse_categorical_crossentropy\" \n",
    "output_activation = 'softmax'\n",
    "learning_rate = 0.0005 #Default = 0.001\n",
    "epochs = 10\n",
    "NUM_COLOR_CHANNELS = 3"
   ]
  },
  {
   "cell_type": "code",
   "execution_count": 45,
   "metadata": {
    "colab": {
     "base_uri": "https://localhost:8080/"
    },
    "executionInfo": {
     "elapsed": 8061,
     "status": "ok",
     "timestamp": 1633022667599,
     "user": {
      "displayName": "Jay Shimpi",
      "photoUrl": "https://lh3.googleusercontent.com/a/default-user=s64",
      "userId": "04516639510063165116"
     },
     "user_tz": -330
    },
    "id": "HFiBcegxWWiw",
    "outputId": "095029b7-6ada-40fe-a765-92b77fc5553e"
   },
   "outputs": [
    {
     "name": "stdout",
     "output_type": "stream",
     "text": [
      "Downloading data from https://storage.googleapis.com/tensorflow/keras-applications/mobilenet_v2/mobilenet_v2_weights_tf_dim_ordering_tf_kernels_1.0_224_no_top.h5\n",
      "9412608/9406464 [==============================] - 0s 0us/step\n",
      "9420800/9406464 [==============================] - 0s 0us/step\n"
     ]
    }
   ],
   "source": [
    "conv_base = MobileNetV2(weights='imagenet',\n",
    "                  include_top=False,\n",
    "                  input_shape=(224, 224, 3))"
   ]
  },
  {
   "cell_type": "code",
   "execution_count": 46,
   "metadata": {
    "colab": {
     "base_uri": "https://localhost:8080/"
    },
    "executionInfo": {
     "elapsed": 357,
     "status": "ok",
     "timestamp": 1633022671129,
     "user": {
      "displayName": "Jay Shimpi",
      "photoUrl": "https://lh3.googleusercontent.com/a/default-user=s64",
      "userId": "04516639510063165116"
     },
     "user_tz": -330
    },
    "id": "avJCd39ddcZG",
    "outputId": "e607ddee-67af-4b68-cf28-45dba89bed38"
   },
   "outputs": [
    {
     "name": "stdout",
     "output_type": "stream",
     "text": [
      "Model: \"mobilenetv2_1.00_224\"\n",
      "__________________________________________________________________________________________________\n",
      "Layer (type)                    Output Shape         Param #     Connected to                     \n",
      "==================================================================================================\n",
      "input_1 (InputLayer)            [(None, 224, 224, 3) 0                                            \n",
      "__________________________________________________________________________________________________\n",
      "Conv1 (Conv2D)                  (None, 112, 112, 32) 864         input_1[0][0]                    \n",
      "__________________________________________________________________________________________________\n",
      "bn_Conv1 (BatchNormalization)   (None, 112, 112, 32) 128         Conv1[0][0]                      \n",
      "__________________________________________________________________________________________________\n",
      "Conv1_relu (ReLU)               (None, 112, 112, 32) 0           bn_Conv1[0][0]                   \n",
      "__________________________________________________________________________________________________\n",
      "expanded_conv_depthwise (Depthw (None, 112, 112, 32) 288         Conv1_relu[0][0]                 \n",
      "__________________________________________________________________________________________________\n",
      "expanded_conv_depthwise_BN (Bat (None, 112, 112, 32) 128         expanded_conv_depthwise[0][0]    \n",
      "__________________________________________________________________________________________________\n",
      "expanded_conv_depthwise_relu (R (None, 112, 112, 32) 0           expanded_conv_depthwise_BN[0][0] \n",
      "__________________________________________________________________________________________________\n",
      "expanded_conv_project (Conv2D)  (None, 112, 112, 16) 512         expanded_conv_depthwise_relu[0][0\n",
      "__________________________________________________________________________________________________\n",
      "expanded_conv_project_BN (Batch (None, 112, 112, 16) 64          expanded_conv_project[0][0]      \n",
      "__________________________________________________________________________________________________\n",
      "block_1_expand (Conv2D)         (None, 112, 112, 96) 1536        expanded_conv_project_BN[0][0]   \n",
      "__________________________________________________________________________________________________\n",
      "block_1_expand_BN (BatchNormali (None, 112, 112, 96) 384         block_1_expand[0][0]             \n",
      "__________________________________________________________________________________________________\n",
      "block_1_expand_relu (ReLU)      (None, 112, 112, 96) 0           block_1_expand_BN[0][0]          \n",
      "__________________________________________________________________________________________________\n",
      "block_1_pad (ZeroPadding2D)     (None, 113, 113, 96) 0           block_1_expand_relu[0][0]        \n",
      "__________________________________________________________________________________________________\n",
      "block_1_depthwise (DepthwiseCon (None, 56, 56, 96)   864         block_1_pad[0][0]                \n",
      "__________________________________________________________________________________________________\n",
      "block_1_depthwise_BN (BatchNorm (None, 56, 56, 96)   384         block_1_depthwise[0][0]          \n",
      "__________________________________________________________________________________________________\n",
      "block_1_depthwise_relu (ReLU)   (None, 56, 56, 96)   0           block_1_depthwise_BN[0][0]       \n",
      "__________________________________________________________________________________________________\n",
      "block_1_project (Conv2D)        (None, 56, 56, 24)   2304        block_1_depthwise_relu[0][0]     \n",
      "__________________________________________________________________________________________________\n",
      "block_1_project_BN (BatchNormal (None, 56, 56, 24)   96          block_1_project[0][0]            \n",
      "__________________________________________________________________________________________________\n",
      "block_2_expand (Conv2D)         (None, 56, 56, 144)  3456        block_1_project_BN[0][0]         \n",
      "__________________________________________________________________________________________________\n",
      "block_2_expand_BN (BatchNormali (None, 56, 56, 144)  576         block_2_expand[0][0]             \n",
      "__________________________________________________________________________________________________\n",
      "block_2_expand_relu (ReLU)      (None, 56, 56, 144)  0           block_2_expand_BN[0][0]          \n",
      "__________________________________________________________________________________________________\n",
      "block_2_depthwise (DepthwiseCon (None, 56, 56, 144)  1296        block_2_expand_relu[0][0]        \n",
      "__________________________________________________________________________________________________\n",
      "block_2_depthwise_BN (BatchNorm (None, 56, 56, 144)  576         block_2_depthwise[0][0]          \n",
      "__________________________________________________________________________________________________\n",
      "block_2_depthwise_relu (ReLU)   (None, 56, 56, 144)  0           block_2_depthwise_BN[0][0]       \n",
      "__________________________________________________________________________________________________\n",
      "block_2_project (Conv2D)        (None, 56, 56, 24)   3456        block_2_depthwise_relu[0][0]     \n",
      "__________________________________________________________________________________________________\n",
      "block_2_project_BN (BatchNormal (None, 56, 56, 24)   96          block_2_project[0][0]            \n",
      "__________________________________________________________________________________________________\n",
      "block_2_add (Add)               (None, 56, 56, 24)   0           block_1_project_BN[0][0]         \n",
      "                                                                 block_2_project_BN[0][0]         \n",
      "__________________________________________________________________________________________________\n",
      "block_3_expand (Conv2D)         (None, 56, 56, 144)  3456        block_2_add[0][0]                \n",
      "__________________________________________________________________________________________________\n",
      "block_3_expand_BN (BatchNormali (None, 56, 56, 144)  576         block_3_expand[0][0]             \n",
      "__________________________________________________________________________________________________\n",
      "block_3_expand_relu (ReLU)      (None, 56, 56, 144)  0           block_3_expand_BN[0][0]          \n",
      "__________________________________________________________________________________________________\n",
      "block_3_pad (ZeroPadding2D)     (None, 57, 57, 144)  0           block_3_expand_relu[0][0]        \n",
      "__________________________________________________________________________________________________\n",
      "block_3_depthwise (DepthwiseCon (None, 28, 28, 144)  1296        block_3_pad[0][0]                \n",
      "__________________________________________________________________________________________________\n",
      "block_3_depthwise_BN (BatchNorm (None, 28, 28, 144)  576         block_3_depthwise[0][0]          \n",
      "__________________________________________________________________________________________________\n",
      "block_3_depthwise_relu (ReLU)   (None, 28, 28, 144)  0           block_3_depthwise_BN[0][0]       \n",
      "__________________________________________________________________________________________________\n",
      "block_3_project (Conv2D)        (None, 28, 28, 32)   4608        block_3_depthwise_relu[0][0]     \n",
      "__________________________________________________________________________________________________\n",
      "block_3_project_BN (BatchNormal (None, 28, 28, 32)   128         block_3_project[0][0]            \n",
      "__________________________________________________________________________________________________\n",
      "block_4_expand (Conv2D)         (None, 28, 28, 192)  6144        block_3_project_BN[0][0]         \n",
      "__________________________________________________________________________________________________\n",
      "block_4_expand_BN (BatchNormali (None, 28, 28, 192)  768         block_4_expand[0][0]             \n",
      "__________________________________________________________________________________________________\n",
      "block_4_expand_relu (ReLU)      (None, 28, 28, 192)  0           block_4_expand_BN[0][0]          \n",
      "__________________________________________________________________________________________________\n",
      "block_4_depthwise (DepthwiseCon (None, 28, 28, 192)  1728        block_4_expand_relu[0][0]        \n",
      "__________________________________________________________________________________________________\n",
      "block_4_depthwise_BN (BatchNorm (None, 28, 28, 192)  768         block_4_depthwise[0][0]          \n",
      "__________________________________________________________________________________________________\n",
      "block_4_depthwise_relu (ReLU)   (None, 28, 28, 192)  0           block_4_depthwise_BN[0][0]       \n",
      "__________________________________________________________________________________________________\n",
      "block_4_project (Conv2D)        (None, 28, 28, 32)   6144        block_4_depthwise_relu[0][0]     \n",
      "__________________________________________________________________________________________________\n",
      "block_4_project_BN (BatchNormal (None, 28, 28, 32)   128         block_4_project[0][0]            \n",
      "__________________________________________________________________________________________________\n",
      "block_4_add (Add)               (None, 28, 28, 32)   0           block_3_project_BN[0][0]         \n",
      "                                                                 block_4_project_BN[0][0]         \n",
      "__________________________________________________________________________________________________\n",
      "block_5_expand (Conv2D)         (None, 28, 28, 192)  6144        block_4_add[0][0]                \n",
      "__________________________________________________________________________________________________\n",
      "block_5_expand_BN (BatchNormali (None, 28, 28, 192)  768         block_5_expand[0][0]             \n",
      "__________________________________________________________________________________________________\n",
      "block_5_expand_relu (ReLU)      (None, 28, 28, 192)  0           block_5_expand_BN[0][0]          \n",
      "__________________________________________________________________________________________________\n",
      "block_5_depthwise (DepthwiseCon (None, 28, 28, 192)  1728        block_5_expand_relu[0][0]        \n",
      "__________________________________________________________________________________________________\n",
      "block_5_depthwise_BN (BatchNorm (None, 28, 28, 192)  768         block_5_depthwise[0][0]          \n",
      "__________________________________________________________________________________________________\n",
      "block_5_depthwise_relu (ReLU)   (None, 28, 28, 192)  0           block_5_depthwise_BN[0][0]       \n",
      "__________________________________________________________________________________________________\n",
      "block_5_project (Conv2D)        (None, 28, 28, 32)   6144        block_5_depthwise_relu[0][0]     \n",
      "__________________________________________________________________________________________________\n",
      "block_5_project_BN (BatchNormal (None, 28, 28, 32)   128         block_5_project[0][0]            \n",
      "__________________________________________________________________________________________________\n",
      "block_5_add (Add)               (None, 28, 28, 32)   0           block_4_add[0][0]                \n",
      "                                                                 block_5_project_BN[0][0]         \n",
      "__________________________________________________________________________________________________\n",
      "block_6_expand (Conv2D)         (None, 28, 28, 192)  6144        block_5_add[0][0]                \n",
      "__________________________________________________________________________________________________\n",
      "block_6_expand_BN (BatchNormali (None, 28, 28, 192)  768         block_6_expand[0][0]             \n",
      "__________________________________________________________________________________________________\n",
      "block_6_expand_relu (ReLU)      (None, 28, 28, 192)  0           block_6_expand_BN[0][0]          \n",
      "__________________________________________________________________________________________________\n",
      "block_6_pad (ZeroPadding2D)     (None, 29, 29, 192)  0           block_6_expand_relu[0][0]        \n",
      "__________________________________________________________________________________________________\n",
      "block_6_depthwise (DepthwiseCon (None, 14, 14, 192)  1728        block_6_pad[0][0]                \n",
      "__________________________________________________________________________________________________\n",
      "block_6_depthwise_BN (BatchNorm (None, 14, 14, 192)  768         block_6_depthwise[0][0]          \n",
      "__________________________________________________________________________________________________\n",
      "block_6_depthwise_relu (ReLU)   (None, 14, 14, 192)  0           block_6_depthwise_BN[0][0]       \n",
      "__________________________________________________________________________________________________\n",
      "block_6_project (Conv2D)        (None, 14, 14, 64)   12288       block_6_depthwise_relu[0][0]     \n",
      "__________________________________________________________________________________________________\n",
      "block_6_project_BN (BatchNormal (None, 14, 14, 64)   256         block_6_project[0][0]            \n",
      "__________________________________________________________________________________________________\n",
      "block_7_expand (Conv2D)         (None, 14, 14, 384)  24576       block_6_project_BN[0][0]         \n",
      "__________________________________________________________________________________________________\n",
      "block_7_expand_BN (BatchNormali (None, 14, 14, 384)  1536        block_7_expand[0][0]             \n",
      "__________________________________________________________________________________________________\n",
      "block_7_expand_relu (ReLU)      (None, 14, 14, 384)  0           block_7_expand_BN[0][0]          \n",
      "__________________________________________________________________________________________________\n",
      "block_7_depthwise (DepthwiseCon (None, 14, 14, 384)  3456        block_7_expand_relu[0][0]        \n",
      "__________________________________________________________________________________________________\n",
      "block_7_depthwise_BN (BatchNorm (None, 14, 14, 384)  1536        block_7_depthwise[0][0]          \n",
      "__________________________________________________________________________________________________\n",
      "block_7_depthwise_relu (ReLU)   (None, 14, 14, 384)  0           block_7_depthwise_BN[0][0]       \n",
      "__________________________________________________________________________________________________\n",
      "block_7_project (Conv2D)        (None, 14, 14, 64)   24576       block_7_depthwise_relu[0][0]     \n",
      "__________________________________________________________________________________________________\n",
      "block_7_project_BN (BatchNormal (None, 14, 14, 64)   256         block_7_project[0][0]            \n",
      "__________________________________________________________________________________________________\n",
      "block_7_add (Add)               (None, 14, 14, 64)   0           block_6_project_BN[0][0]         \n",
      "                                                                 block_7_project_BN[0][0]         \n",
      "__________________________________________________________________________________________________\n",
      "block_8_expand (Conv2D)         (None, 14, 14, 384)  24576       block_7_add[0][0]                \n",
      "__________________________________________________________________________________________________\n",
      "block_8_expand_BN (BatchNormali (None, 14, 14, 384)  1536        block_8_expand[0][0]             \n",
      "__________________________________________________________________________________________________\n",
      "block_8_expand_relu (ReLU)      (None, 14, 14, 384)  0           block_8_expand_BN[0][0]          \n",
      "__________________________________________________________________________________________________\n",
      "block_8_depthwise (DepthwiseCon (None, 14, 14, 384)  3456        block_8_expand_relu[0][0]        \n",
      "__________________________________________________________________________________________________\n",
      "block_8_depthwise_BN (BatchNorm (None, 14, 14, 384)  1536        block_8_depthwise[0][0]          \n",
      "__________________________________________________________________________________________________\n",
      "block_8_depthwise_relu (ReLU)   (None, 14, 14, 384)  0           block_8_depthwise_BN[0][0]       \n",
      "__________________________________________________________________________________________________\n",
      "block_8_project (Conv2D)        (None, 14, 14, 64)   24576       block_8_depthwise_relu[0][0]     \n",
      "__________________________________________________________________________________________________\n",
      "block_8_project_BN (BatchNormal (None, 14, 14, 64)   256         block_8_project[0][0]            \n",
      "__________________________________________________________________________________________________\n",
      "block_8_add (Add)               (None, 14, 14, 64)   0           block_7_add[0][0]                \n",
      "                                                                 block_8_project_BN[0][0]         \n",
      "__________________________________________________________________________________________________\n",
      "block_9_expand (Conv2D)         (None, 14, 14, 384)  24576       block_8_add[0][0]                \n",
      "__________________________________________________________________________________________________\n",
      "block_9_expand_BN (BatchNormali (None, 14, 14, 384)  1536        block_9_expand[0][0]             \n",
      "__________________________________________________________________________________________________\n",
      "block_9_expand_relu (ReLU)      (None, 14, 14, 384)  0           block_9_expand_BN[0][0]          \n",
      "__________________________________________________________________________________________________\n",
      "block_9_depthwise (DepthwiseCon (None, 14, 14, 384)  3456        block_9_expand_relu[0][0]        \n",
      "__________________________________________________________________________________________________\n",
      "block_9_depthwise_BN (BatchNorm (None, 14, 14, 384)  1536        block_9_depthwise[0][0]          \n",
      "__________________________________________________________________________________________________\n",
      "block_9_depthwise_relu (ReLU)   (None, 14, 14, 384)  0           block_9_depthwise_BN[0][0]       \n",
      "__________________________________________________________________________________________________\n",
      "block_9_project (Conv2D)        (None, 14, 14, 64)   24576       block_9_depthwise_relu[0][0]     \n",
      "__________________________________________________________________________________________________\n",
      "block_9_project_BN (BatchNormal (None, 14, 14, 64)   256         block_9_project[0][0]            \n",
      "__________________________________________________________________________________________________\n",
      "block_9_add (Add)               (None, 14, 14, 64)   0           block_8_add[0][0]                \n",
      "                                                                 block_9_project_BN[0][0]         \n",
      "__________________________________________________________________________________________________\n",
      "block_10_expand (Conv2D)        (None, 14, 14, 384)  24576       block_9_add[0][0]                \n",
      "__________________________________________________________________________________________________\n",
      "block_10_expand_BN (BatchNormal (None, 14, 14, 384)  1536        block_10_expand[0][0]            \n",
      "__________________________________________________________________________________________________\n",
      "block_10_expand_relu (ReLU)     (None, 14, 14, 384)  0           block_10_expand_BN[0][0]         \n",
      "__________________________________________________________________________________________________\n",
      "block_10_depthwise (DepthwiseCo (None, 14, 14, 384)  3456        block_10_expand_relu[0][0]       \n",
      "__________________________________________________________________________________________________\n",
      "block_10_depthwise_BN (BatchNor (None, 14, 14, 384)  1536        block_10_depthwise[0][0]         \n",
      "__________________________________________________________________________________________________\n",
      "block_10_depthwise_relu (ReLU)  (None, 14, 14, 384)  0           block_10_depthwise_BN[0][0]      \n",
      "__________________________________________________________________________________________________\n",
      "block_10_project (Conv2D)       (None, 14, 14, 96)   36864       block_10_depthwise_relu[0][0]    \n",
      "__________________________________________________________________________________________________\n",
      "block_10_project_BN (BatchNorma (None, 14, 14, 96)   384         block_10_project[0][0]           \n",
      "__________________________________________________________________________________________________\n",
      "block_11_expand (Conv2D)        (None, 14, 14, 576)  55296       block_10_project_BN[0][0]        \n",
      "__________________________________________________________________________________________________\n",
      "block_11_expand_BN (BatchNormal (None, 14, 14, 576)  2304        block_11_expand[0][0]            \n",
      "__________________________________________________________________________________________________\n",
      "block_11_expand_relu (ReLU)     (None, 14, 14, 576)  0           block_11_expand_BN[0][0]         \n",
      "__________________________________________________________________________________________________\n",
      "block_11_depthwise (DepthwiseCo (None, 14, 14, 576)  5184        block_11_expand_relu[0][0]       \n",
      "__________________________________________________________________________________________________\n",
      "block_11_depthwise_BN (BatchNor (None, 14, 14, 576)  2304        block_11_depthwise[0][0]         \n",
      "__________________________________________________________________________________________________\n",
      "block_11_depthwise_relu (ReLU)  (None, 14, 14, 576)  0           block_11_depthwise_BN[0][0]      \n",
      "__________________________________________________________________________________________________\n",
      "block_11_project (Conv2D)       (None, 14, 14, 96)   55296       block_11_depthwise_relu[0][0]    \n",
      "__________________________________________________________________________________________________\n",
      "block_11_project_BN (BatchNorma (None, 14, 14, 96)   384         block_11_project[0][0]           \n",
      "__________________________________________________________________________________________________\n",
      "block_11_add (Add)              (None, 14, 14, 96)   0           block_10_project_BN[0][0]        \n",
      "                                                                 block_11_project_BN[0][0]        \n",
      "__________________________________________________________________________________________________\n",
      "block_12_expand (Conv2D)        (None, 14, 14, 576)  55296       block_11_add[0][0]               \n",
      "__________________________________________________________________________________________________\n",
      "block_12_expand_BN (BatchNormal (None, 14, 14, 576)  2304        block_12_expand[0][0]            \n",
      "__________________________________________________________________________________________________\n",
      "block_12_expand_relu (ReLU)     (None, 14, 14, 576)  0           block_12_expand_BN[0][0]         \n",
      "__________________________________________________________________________________________________\n",
      "block_12_depthwise (DepthwiseCo (None, 14, 14, 576)  5184        block_12_expand_relu[0][0]       \n",
      "__________________________________________________________________________________________________\n",
      "block_12_depthwise_BN (BatchNor (None, 14, 14, 576)  2304        block_12_depthwise[0][0]         \n",
      "__________________________________________________________________________________________________\n",
      "block_12_depthwise_relu (ReLU)  (None, 14, 14, 576)  0           block_12_depthwise_BN[0][0]      \n",
      "__________________________________________________________________________________________________\n",
      "block_12_project (Conv2D)       (None, 14, 14, 96)   55296       block_12_depthwise_relu[0][0]    \n",
      "__________________________________________________________________________________________________\n",
      "block_12_project_BN (BatchNorma (None, 14, 14, 96)   384         block_12_project[0][0]           \n",
      "__________________________________________________________________________________________________\n",
      "block_12_add (Add)              (None, 14, 14, 96)   0           block_11_add[0][0]               \n",
      "                                                                 block_12_project_BN[0][0]        \n",
      "__________________________________________________________________________________________________\n",
      "block_13_expand (Conv2D)        (None, 14, 14, 576)  55296       block_12_add[0][0]               \n",
      "__________________________________________________________________________________________________\n",
      "block_13_expand_BN (BatchNormal (None, 14, 14, 576)  2304        block_13_expand[0][0]            \n",
      "__________________________________________________________________________________________________\n",
      "block_13_expand_relu (ReLU)     (None, 14, 14, 576)  0           block_13_expand_BN[0][0]         \n",
      "__________________________________________________________________________________________________\n",
      "block_13_pad (ZeroPadding2D)    (None, 15, 15, 576)  0           block_13_expand_relu[0][0]       \n",
      "__________________________________________________________________________________________________\n",
      "block_13_depthwise (DepthwiseCo (None, 7, 7, 576)    5184        block_13_pad[0][0]               \n",
      "__________________________________________________________________________________________________\n",
      "block_13_depthwise_BN (BatchNor (None, 7, 7, 576)    2304        block_13_depthwise[0][0]         \n",
      "__________________________________________________________________________________________________\n",
      "block_13_depthwise_relu (ReLU)  (None, 7, 7, 576)    0           block_13_depthwise_BN[0][0]      \n",
      "__________________________________________________________________________________________________\n",
      "block_13_project (Conv2D)       (None, 7, 7, 160)    92160       block_13_depthwise_relu[0][0]    \n",
      "__________________________________________________________________________________________________\n",
      "block_13_project_BN (BatchNorma (None, 7, 7, 160)    640         block_13_project[0][0]           \n",
      "__________________________________________________________________________________________________\n",
      "block_14_expand (Conv2D)        (None, 7, 7, 960)    153600      block_13_project_BN[0][0]        \n",
      "__________________________________________________________________________________________________\n",
      "block_14_expand_BN (BatchNormal (None, 7, 7, 960)    3840        block_14_expand[0][0]            \n",
      "__________________________________________________________________________________________________\n",
      "block_14_expand_relu (ReLU)     (None, 7, 7, 960)    0           block_14_expand_BN[0][0]         \n",
      "__________________________________________________________________________________________________\n",
      "block_14_depthwise (DepthwiseCo (None, 7, 7, 960)    8640        block_14_expand_relu[0][0]       \n",
      "__________________________________________________________________________________________________\n",
      "block_14_depthwise_BN (BatchNor (None, 7, 7, 960)    3840        block_14_depthwise[0][0]         \n",
      "__________________________________________________________________________________________________\n",
      "block_14_depthwise_relu (ReLU)  (None, 7, 7, 960)    0           block_14_depthwise_BN[0][0]      \n",
      "__________________________________________________________________________________________________\n",
      "block_14_project (Conv2D)       (None, 7, 7, 160)    153600      block_14_depthwise_relu[0][0]    \n",
      "__________________________________________________________________________________________________\n",
      "block_14_project_BN (BatchNorma (None, 7, 7, 160)    640         block_14_project[0][0]           \n",
      "__________________________________________________________________________________________________\n",
      "block_14_add (Add)              (None, 7, 7, 160)    0           block_13_project_BN[0][0]        \n",
      "                                                                 block_14_project_BN[0][0]        \n",
      "__________________________________________________________________________________________________\n",
      "block_15_expand (Conv2D)        (None, 7, 7, 960)    153600      block_14_add[0][0]               \n",
      "__________________________________________________________________________________________________\n",
      "block_15_expand_BN (BatchNormal (None, 7, 7, 960)    3840        block_15_expand[0][0]            \n",
      "__________________________________________________________________________________________________\n",
      "block_15_expand_relu (ReLU)     (None, 7, 7, 960)    0           block_15_expand_BN[0][0]         \n",
      "__________________________________________________________________________________________________\n",
      "block_15_depthwise (DepthwiseCo (None, 7, 7, 960)    8640        block_15_expand_relu[0][0]       \n",
      "__________________________________________________________________________________________________\n",
      "block_15_depthwise_BN (BatchNor (None, 7, 7, 960)    3840        block_15_depthwise[0][0]         \n",
      "__________________________________________________________________________________________________\n",
      "block_15_depthwise_relu (ReLU)  (None, 7, 7, 960)    0           block_15_depthwise_BN[0][0]      \n",
      "__________________________________________________________________________________________________\n",
      "block_15_project (Conv2D)       (None, 7, 7, 160)    153600      block_15_depthwise_relu[0][0]    \n",
      "__________________________________________________________________________________________________\n",
      "block_15_project_BN (BatchNorma (None, 7, 7, 160)    640         block_15_project[0][0]           \n",
      "__________________________________________________________________________________________________\n",
      "block_15_add (Add)              (None, 7, 7, 160)    0           block_14_add[0][0]               \n",
      "                                                                 block_15_project_BN[0][0]        \n",
      "__________________________________________________________________________________________________\n",
      "block_16_expand (Conv2D)        (None, 7, 7, 960)    153600      block_15_add[0][0]               \n",
      "__________________________________________________________________________________________________\n",
      "block_16_expand_BN (BatchNormal (None, 7, 7, 960)    3840        block_16_expand[0][0]            \n",
      "__________________________________________________________________________________________________\n",
      "block_16_expand_relu (ReLU)     (None, 7, 7, 960)    0           block_16_expand_BN[0][0]         \n",
      "__________________________________________________________________________________________________\n",
      "block_16_depthwise (DepthwiseCo (None, 7, 7, 960)    8640        block_16_expand_relu[0][0]       \n",
      "__________________________________________________________________________________________________\n",
      "block_16_depthwise_BN (BatchNor (None, 7, 7, 960)    3840        block_16_depthwise[0][0]         \n",
      "__________________________________________________________________________________________________\n",
      "block_16_depthwise_relu (ReLU)  (None, 7, 7, 960)    0           block_16_depthwise_BN[0][0]      \n",
      "__________________________________________________________________________________________________\n",
      "block_16_project (Conv2D)       (None, 7, 7, 320)    307200      block_16_depthwise_relu[0][0]    \n",
      "__________________________________________________________________________________________________\n",
      "block_16_project_BN (BatchNorma (None, 7, 7, 320)    1280        block_16_project[0][0]           \n",
      "__________________________________________________________________________________________________\n",
      "Conv_1 (Conv2D)                 (None, 7, 7, 1280)   409600      block_16_project_BN[0][0]        \n",
      "__________________________________________________________________________________________________\n",
      "Conv_1_bn (BatchNormalization)  (None, 7, 7, 1280)   5120        Conv_1[0][0]                     \n",
      "__________________________________________________________________________________________________\n",
      "out_relu (ReLU)                 (None, 7, 7, 1280)   0           Conv_1_bn[0][0]                  \n",
      "==================================================================================================\n",
      "Total params: 2,257,984\n",
      "Trainable params: 2,223,872\n",
      "Non-trainable params: 34,112\n",
      "__________________________________________________________________________________________________\n"
     ]
    }
   ],
   "source": [
    "conv_base.summary()"
   ]
  },
  {
   "cell_type": "code",
   "execution_count": 47,
   "metadata": {
    "executionInfo": {
     "elapsed": 975,
     "status": "ok",
     "timestamp": 1633022674410,
     "user": {
      "displayName": "Jay Shimpi",
      "photoUrl": "https://lh3.googleusercontent.com/a/default-user=s64",
      "userId": "04516639510063165116"
     },
     "user_tz": -330
    },
    "id": "_bmcYTlurVYe"
   },
   "outputs": [],
   "source": [
    "model = models.Sequential()\n",
    "model.add(conv_base)\n",
    "model.add(layers.Flatten())\n",
    "model.add(layers.Dense(64, activation='relu'))\n",
    "model.add(layers.Dense(2, activation=output_activation))"
   ]
  },
  {
   "cell_type": "code",
   "execution_count": 48,
   "metadata": {
    "colab": {
     "base_uri": "https://localhost:8080/"
    },
    "executionInfo": {
     "elapsed": 760,
     "status": "ok",
     "timestamp": 1633022676900,
     "user": {
      "displayName": "Jay Shimpi",
      "photoUrl": "https://lh3.googleusercontent.com/a/default-user=s64",
      "userId": "04516639510063165116"
     },
     "user_tz": -330
    },
    "id": "taBsqXwofJrl",
    "outputId": "b46579de-64f5-46bf-a2fc-39664501dc67"
   },
   "outputs": [
    {
     "name": "stdout",
     "output_type": "stream",
     "text": [
      "Model: \"sequential\"\n",
      "_________________________________________________________________\n",
      "Layer (type)                 Output Shape              Param #   \n",
      "=================================================================\n",
      "mobilenetv2_1.00_224 (Functi (None, 7, 7, 1280)        2257984   \n",
      "_________________________________________________________________\n",
      "flatten (Flatten)            (None, 62720)             0         \n",
      "_________________________________________________________________\n",
      "dense (Dense)                (None, 64)                4014144   \n",
      "_________________________________________________________________\n",
      "dense_1 (Dense)              (None, 2)                 130       \n",
      "=================================================================\n",
      "Total params: 6,272,258\n",
      "Trainable params: 6,238,146\n",
      "Non-trainable params: 34,112\n",
      "_________________________________________________________________\n"
     ]
    }
   ],
   "source": [
    "model.summary()"
   ]
  },
  {
   "cell_type": "code",
   "execution_count": 49,
   "metadata": {
    "executionInfo": {
     "elapsed": 347,
     "status": "ok",
     "timestamp": 1633022683433,
     "user": {
      "displayName": "Jay Shimpi",
      "photoUrl": "https://lh3.googleusercontent.com/a/default-user=s64",
      "userId": "04516639510063165116"
     },
     "user_tz": -330
    },
    "id": "IOxQ6Jt8faQ9"
   },
   "outputs": [],
   "source": [
    "# compile model\n",
    "model.compile(loss=loss,\n",
    "              optimizer=optimizers.RMSprop(learning_rate=learning_rate),\n",
    "              metrics=['acc'])"
   ]
  },
  {
   "cell_type": "code",
   "execution_count": 54,
   "metadata": {
    "colab": {
     "base_uri": "https://localhost:8080/"
    },
    "executionInfo": {
     "elapsed": 487114,
     "status": "ok",
     "timestamp": 1633024045462,
     "user": {
      "displayName": "Jay Shimpi",
      "photoUrl": "https://lh3.googleusercontent.com/a/default-user=s64",
      "userId": "04516639510063165116"
     },
     "user_tz": -330
    },
    "id": "J_FWnN0nrW_x",
    "outputId": "3347b2e1-da21-4da2-a754-934be6c07d1e"
   },
   "outputs": [
    {
     "name": "stdout",
     "output_type": "stream",
     "text": [
      "Epoch 1/10\n",
      "38/38 [==============================] - 45s 1s/step - loss: 0.3191 - acc: 0.8777 - val_loss: 26.7190 - val_acc: 0.5697\n",
      "Epoch 2/10\n",
      "38/38 [==============================] - 44s 1s/step - loss: 0.2700 - acc: 0.8794 - val_loss: 49.6672 - val_acc: 0.5697\n",
      "Epoch 3/10\n",
      "38/38 [==============================] - 44s 1s/step - loss: 0.3509 - acc: 0.8669 - val_loss: 41.9377 - val_acc: 0.5697\n",
      "Epoch 4/10\n",
      "38/38 [==============================] - 44s 1s/step - loss: 0.2490 - acc: 0.8831 - val_loss: 81.2799 - val_acc: 0.5738\n",
      "Epoch 5/10\n",
      "38/38 [==============================] - 45s 1s/step - loss: 0.2667 - acc: 0.8840 - val_loss: 108.3556 - val_acc: 0.5738\n",
      "Epoch 6/10\n",
      "38/38 [==============================] - 45s 1s/step - loss: 0.2365 - acc: 0.9003 - val_loss: 118.0893 - val_acc: 0.5697\n",
      "Epoch 7/10\n",
      "38/38 [==============================] - 45s 1s/step - loss: 0.2722 - acc: 0.8840 - val_loss: 120.0126 - val_acc: 0.5738\n",
      "Epoch 8/10\n",
      "38/38 [==============================] - 44s 1s/step - loss: 0.2225 - acc: 0.9136 - val_loss: 109.4719 - val_acc: 0.5697\n",
      "Epoch 9/10\n",
      "38/38 [==============================] - 44s 1s/step - loss: 0.2390 - acc: 0.8907 - val_loss: 117.3391 - val_acc: 0.5697\n",
      "Epoch 10/10\n",
      "38/38 [==============================] - 44s 1s/step - loss: 0.2239 - acc: 0.9157 - val_loss: 157.2956 - val_acc: 0.5697\n"
     ]
    }
   ],
   "source": [
    "# Fit the model\n",
    "history = model.fit(train_data,\n",
    "                    epochs=epochs,\n",
    "                    validation_data=test_data)"
   ]
  },
  {
   "cell_type": "markdown",
   "metadata": {
    "id": "hG6RLIHiYctv"
   },
   "source": [
    "### Plot Curves\n",
    "\n",
    "Plot loss and accuracy metrics to see how the model trains"
   ]
  },
  {
   "cell_type": "code",
   "execution_count": 55,
   "metadata": {
    "executionInfo": {
     "elapsed": 2,
     "status": "ok",
     "timestamp": 1633024063374,
     "user": {
      "displayName": "Jay Shimpi",
      "photoUrl": "https://lh3.googleusercontent.com/a/default-user=s64",
      "userId": "04516639510063165116"
     },
     "user_tz": -330
    },
    "id": "WdIAsdMoXtgM"
   },
   "outputs": [],
   "source": [
    "def plot_model(model_name_history, metric_name):\n",
    "    # Plot loss per iteration\n",
    "    fig, ax = plt.subplots(1, 2,figsize=(15,5))\n",
    "\n",
    "    ax[0].plot(model_name_history.history['loss'], label='loss')\n",
    "    ax[0].plot(model_name_history.history['val_loss'], label='val_loss')\n",
    "    ax[0].legend()\n",
    "    \n",
    "    # Plot accuracy per iteration\n",
    "    ax[1].plot(model_name_history.history[metric_name], label='accuracy')\n",
    "    ax[1].plot(model_name_history.history[f\"val_{metric_name}\"], label='val_accuracy')\n",
    "    ax[1].legend()"
   ]
  },
  {
   "cell_type": "code",
   "execution_count": 56,
   "metadata": {
    "colab": {
     "base_uri": "https://localhost:8080/",
     "height": 320
    },
    "executionInfo": {
     "elapsed": 601,
     "status": "ok",
     "timestamp": 1633024065568,
     "user": {
      "displayName": "Jay Shimpi",
      "photoUrl": "https://lh3.googleusercontent.com/a/default-user=s64",
      "userId": "04516639510063165116"
     },
     "user_tz": -330
    },
    "id": "CQrT5jbNZJbD",
    "outputId": "4b2ef74a-c862-4ed9-d68e-acf4481236cd"
   },
   "outputs": [
    {
     "data": {
      "image/png": "[encoded data removed]",
      "text/plain": [
       "<Figure size 1080x360 with 2 Axes>"
      ]
     },
     "metadata": {
      "needs_background": "light"
     },
     "output_type": "display_data"
    }
   ],
   "source": [
    "plot_model(history, 'acc')"
   ]
  },
  {
   "cell_type": "markdown",
   "metadata": {
    "id": "05mXy8c9bPcH"
   },
   "source": [
    "### Model Evaluation (Accuracy)"
   ]
  },
  {
   "cell_type": "code",
   "execution_count": 57,
   "metadata": {
    "colab": {
     "base_uri": "https://localhost:8080/"
    },
    "executionInfo": {
     "elapsed": 5816,
     "status": "ok",
     "timestamp": 1633024081519,
     "user": {
      "displayName": "Jay Shimpi",
      "photoUrl": "https://lh3.googleusercontent.com/a/default-user=s64",
      "userId": "04516639510063165116"
     },
     "user_tz": -330
    },
    "id": "sdkYnilkZRWP",
    "outputId": "65f50a32-6308-4363-9d9f-9adb1682d4f2"
   },
   "outputs": [
    {
     "name": "stdout",
     "output_type": "stream",
     "text": [
      "4/4 [==============================] - 1s 254ms/step - loss: 157.2956 - acc: 0.5697\n",
      "Loss:  157.2955780029297\n",
      "Accuracy Score:  0.5696721076965332\n"
     ]
    }
   ],
   "source": [
    "predictions = model.predict(test_data)\n",
    "y_pred = np.argmax(predictions,axis = 1)\n",
    "y_test = test_data.classes\n",
    "class_labels = list(test_data.class_indices.keys())   \n",
    "loss, accuracy = model.evaluate(test_data)\n",
    "print(\"Loss: \", loss)\n",
    "print(\"Accuracy Score: \",accuracy)"
   ]
  },
  {
   "cell_type": "markdown",
   "metadata": {
    "id": "IgmzMxRkbSRd"
   },
   "source": [
    "### Confusion Matrix\n",
    "\n",
    "A confusion matrix is utilized to understand the performance of the classification model or algorithm in machine learning for a given test set where results are known."
   ]
  },
  {
   "cell_type": "code",
   "execution_count": 58,
   "metadata": {
    "executionInfo": {
     "elapsed": 4,
     "status": "ok",
     "timestamp": 1633024089360,
     "user": {
      "displayName": "Jay Shimpi",
      "photoUrl": "https://lh3.googleusercontent.com/a/default-user=s64",
      "userId": "04516639510063165116"
     },
     "user_tz": -330
    },
    "id": "whcZlqcJbB1s"
   },
   "outputs": [],
   "source": [
    "def get_confusion_matrix(data, N):\n",
    "  print(\"Generating confusion matrix\", N)\n",
    "  predictions = []\n",
    "  targets = []\n",
    "  i = 0\n",
    "  for x, y in data:\n",
    "    i += 1\n",
    "    if i % 50 == 0:\n",
    "      print(i)\n",
    "    p = model.predict(x)\n",
    "    y_pred = np.argmax(p,axis = 1)\n",
    "    predictions = np.concatenate((predictions, y_pred))\n",
    " \n",
    "    targets = np.concatenate((targets, y))\n",
    "    if len(targets) >= N:\n",
    "      break\n",
    "  cm = confusion_matrix(targets, predictions)\n",
    "  return cm"
   ]
  },
  {
   "cell_type": "code",
   "execution_count": 59,
   "metadata": {
    "colab": {
     "base_uri": "https://localhost:8080/",
     "height": 282
    },
    "executionInfo": {
     "elapsed": 5198,
     "status": "ok",
     "timestamp": 1633024097392,
     "user": {
      "displayName": "Jay Shimpi",
      "photoUrl": "https://lh3.googleusercontent.com/a/default-user=s64",
      "userId": "04516639510063165116"
     },
     "user_tz": -330
    },
    "id": "10m6Jq0BmZZc",
    "outputId": "380f248a-d6e5-49cd-fcac-0b60b46213e0"
   },
   "outputs": [
    {
     "name": "stdout",
     "output_type": "stream",
     "text": [
      "Generating confusion matrix 244\n"
     ]
    },
    {
     "data": {
      "image/png": "[encoded data removed]",
      "text/plain": [
       "<Figure size 432x288 with 2 Axes>"
      ]
     },
     "metadata": {
      "needs_background": "light"
     },
     "output_type": "display_data"
    }
   ],
   "source": [
    "cm = get_confusion_matrix(test_data, len(test_image_files))\n",
    "sns.heatmap(cm,\n",
    "            annot = True,\n",
    "            fmt = 'd',\n",
    "            xticklabels=class_labels, \n",
    "            yticklabels= class_labels,\n",
    "            cmap = plt.cm.Blues)\n",
    "plt.show()"
   ]
  },
  {
   "cell_type": "markdown",
   "metadata": {
    "id": "NqIgSYZetxER"
   },
   "source": [
    "#### Classification Report\n",
    "A Classification report is used to measure the quality of predictions from a classification algorithm. How many predictions are True, how many are False.\n",
    "\n",
    "* **where**:\n",
    "    - Precision:- Accuracy of positive predictions.\n",
    "    - Recall:- Fraction of positives that were correctly identified.\n",
    "    - f1-score:-  percent of positive predictions were correct\n",
    "    - support:- Support is the number of actual occurrences of the class in the specified dataset."
   ]
  },
  {
   "cell_type": "code",
   "execution_count": 60,
   "metadata": {
    "colab": {
     "base_uri": "https://localhost:8080/"
    },
    "executionInfo": {
     "elapsed": 1801,
     "status": "ok",
     "timestamp": 1633024105479,
     "user": {
      "displayName": "Jay Shimpi",
      "photoUrl": "https://lh3.googleusercontent.com/a/default-user=s64",
      "userId": "04516639510063165116"
     },
     "user_tz": -330
    },
    "id": "4DfyE_dZpmiS",
    "outputId": "4ea4cc1a-7ed7-433d-b1b7-e5c723e1006b"
   },
   "outputs": [
    {
     "name": "stdout",
     "output_type": "stream",
     "text": [
      "              precision    recall  f1-score   support\n",
      "\n",
      "      benign       0.57      1.00      0.73       139\n",
      "   malignant       0.00      0.00      0.00       105\n",
      "\n",
      "    accuracy                           0.57       244\n",
      "   macro avg       0.28      0.50      0.36       244\n",
      "weighted avg       0.32      0.57      0.41       244\n",
      "\n"
     ]
    },
    {
     "name": "stderr",
     "output_type": "stream",
     "text": [
      "/usr/local/lib/python3.7/dist-packages/sklearn/metrics/_classification.py:1272: UndefinedMetricWarning: Precision and F-score are ill-defined and being set to 0.0 in labels with no predicted samples. Use `zero_division` parameter to control this behavior.\n",
      "  _warn_prf(average, modifier, msg_start, len(result))\n"
     ]
    }
   ],
   "source": [
    "print(classification_report(y_test, y_pred, target_names=class_labels))"
   ]
  },
  {
   "cell_type": "markdown",
   "metadata": {
    "id": "cSrnRnRh3zd-"
   },
   "source": [
    "#### Creator: Jay Shimpi, Github: [Profile]( https://github.com/JayShimpi22)"
   ]
  }
 ],
 "metadata": {
  "accelerator": "GPU",
  "colab": {
   "collapsed_sections": [],
   "name": "mobile.ipynb",
   "provenance": []
  },
  "kernelspec": {
   "display_name": "Python 3",
   "language": "python",
   "name": "python3"
  },
  "language_info": {
   "codemirror_mode": {
    "name": "ipython",
    "version": 3
   },
   "file_extension": ".py",
   "mimetype": "text/x-python",
   "name": "python",
   "nbconvert_exporter": "python",
   "pygments_lexer": "ipython3",
   "version": "3.7.8rc1"
  }
 },
 "nbformat": 4,
 "nbformat_minor": 1
}
